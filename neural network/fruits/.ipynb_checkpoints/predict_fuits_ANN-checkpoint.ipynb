{
 "cells": [
  {
   "cell_type": "code",
   "execution_count": 204,
   "metadata": {},
   "outputs": [],
   "source": [
    "import numpy as np\n",
    "import glob\n",
    "import os\n",
    "import cv2\n",
    "import mahotas"
   ]
  },
  {
   "cell_type": "code",
   "execution_count": 304,
   "metadata": {},
   "outputs": [],
   "source": [
    "paths = os.path.join('data_fruits/')"
   ]
  },
  {
   "cell_type": "code",
   "execution_count": 305,
   "metadata": {},
   "outputs": [],
   "source": [
    "class_name = os.listdir(paths)"
   ]
  },
  {
   "cell_type": "code",
   "execution_count": 638,
   "metadata": {},
   "outputs": [],
   "source": [
    "x = []\n",
    "y = []\n",
    "for label in class_name:\n",
    "    dir = os.path.join(paths, label) + '/'\n",
    "    curr_label = label\n",
    "    for file_detail in os.listdir(dir):\n",
    "        file = os.path.join(dir, file_detail)\n",
    "        #print(file)\n",
    "        img = cv2.imread(file)\n",
    "        img_resize = cv2.resize(img ,(200, 200))\n",
    "        hist = cv2.calcHist([img], [0, 1, 2], None, [8, 8, 8], [0, 256, 0, 256, 0, 256])\n",
    "        cv2.normalize(hist, hist)\n",
    "        histogram_features = hist.flatten()\n",
    "        img_gray = cv2.cvtColor(img_resize, cv2.COLOR_BGR2GRAY)\n",
    "        hue_features = cv2.HuMoments(cv2.moments(img_gray)).flatten()\n",
    "        haralick_features = mahotas.features.haralick(img_gray).mean(axis=0)\n",
    "        current_features = np.hstack([haralick_features, hue_features, histogram_features])\n",
    "        x.append(current_features)\n",
    "        y.append(curr_label)\n"
   ]
  },
  {
   "cell_type": "code",
   "execution_count": 639,
   "metadata": {},
   "outputs": [],
   "source": [
    "np.shape(x)\n",
    "x = np.array(x)"
   ]
  },
  {
   "cell_type": "code",
   "execution_count": 640,
   "metadata": {},
   "outputs": [],
   "source": [
    "np.shape(y)\n",
    "y = np.array(y)"
   ]
  },
  {
   "cell_type": "code",
   "execution_count": 641,
   "metadata": {},
   "outputs": [
    {
     "data": {
      "text/plain": [
       "(275, 532)"
      ]
     },
     "execution_count": 641,
     "metadata": {},
     "output_type": "execute_result"
    }
   ],
   "source": [
    "x.shape"
   ]
  },
  {
   "cell_type": "code",
   "execution_count": 642,
   "metadata": {},
   "outputs": [],
   "source": [
    "from sklearn.preprocessing import LabelEncoder, MinMaxScaler\n",
    "lb = LabelEncoder()\n",
    "y = lb.fit_transform(y)\n",
    "mms = MinMaxScaler()\n",
    "x = mms.fit_transform(x)"
   ]
  },
  {
   "cell_type": "code",
   "execution_count": 622,
   "metadata": {},
   "outputs": [
    {
     "data": {
      "text/plain": [
       "(275,)"
      ]
     },
     "execution_count": 622,
     "metadata": {},
     "output_type": "execute_result"
    }
   ],
   "source": [
    "y.shape"
   ]
  },
  {
   "cell_type": "code",
   "execution_count": 643,
   "metadata": {},
   "outputs": [],
   "source": [
    "from sklearn.model_selection import train_test_split\n",
    "x_train, x_test, y_train, y_test = train_test_split(x, y, random_state = 24)"
   ]
  },
  {
   "cell_type": "code",
   "execution_count": null,
   "metadata": {},
   "outputs": [],
   "source": []
  },
  {
   "cell_type": "code",
   "execution_count": 604,
   "metadata": {},
   "outputs": [
    {
     "data": {
      "text/plain": [
       "0"
      ]
     },
     "execution_count": 604,
     "metadata": {},
     "output_type": "execute_result"
    }
   ],
   "source": [
    "x_train[0].shape\n",
    "y[0]"
   ]
  },
  {
   "cell_type": "code",
   "execution_count": 317,
   "metadata": {},
   "outputs": [],
   "source": [
    "import tensorflow as tf \n",
    "from tensorflow import keras"
   ]
  },
  {
   "cell_type": "code",
   "execution_count": 644,
   "metadata": {},
   "outputs": [
    {
     "data": {
      "text/plain": [
       "(array([0, 1, 2], dtype=int64), array([70, 65, 71], dtype=int64))"
      ]
     },
     "execution_count": 644,
     "metadata": {},
     "output_type": "execute_result"
    }
   ],
   "source": [
    "np.unique(y_train, return_counts=True)"
   ]
  },
  {
   "cell_type": "code",
   "execution_count": 651,
   "metadata": {},
   "outputs": [],
   "source": [
    "model = keras.models.Sequential()\n",
    "model.add(keras.layers.Dense(32, activation = 'elu', input_shape = (532, )))\n",
    "model.add(keras.layers.Dropout(0.3))\n",
    "model.add(keras.layers.Dense(16, activation = 'elu'))\n",
    "model.add(keras.layers.Dropout(0.1))\n",
    "model.add(keras.layers.Dense(8, activation = 'elu'))\n",
    "model.add(keras.layers.Dense(3, activation = 'softmax'))"
   ]
  },
  {
   "cell_type": "code",
   "execution_count": 652,
   "metadata": {},
   "outputs": [
    {
     "name": "stdout",
     "output_type": "stream",
     "text": [
      "Model: \"sequential_86\"\n",
      "_________________________________________________________________\n",
      "Layer (type)                 Output Shape              Param #   \n",
      "=================================================================\n",
      "dense_341 (Dense)            (None, 32)                17056     \n",
      "_________________________________________________________________\n",
      "dropout_122 (Dropout)        (None, 32)                0         \n",
      "_________________________________________________________________\n",
      "dense_342 (Dense)            (None, 16)                528       \n",
      "_________________________________________________________________\n",
      "dropout_123 (Dropout)        (None, 16)                0         \n",
      "_________________________________________________________________\n",
      "dense_343 (Dense)            (None, 8)                 136       \n",
      "_________________________________________________________________\n",
      "dense_344 (Dense)            (None, 3)                 27        \n",
      "=================================================================\n",
      "Total params: 17,747\n",
      "Trainable params: 17,747\n",
      "Non-trainable params: 0\n",
      "_________________________________________________________________\n"
     ]
    }
   ],
   "source": [
    "model.summary()"
   ]
  },
  {
   "cell_type": "code",
   "execution_count": 653,
   "metadata": {},
   "outputs": [],
   "source": [
    "early = keras.callbacks.EarlyStopping(monitor='loss')"
   ]
  },
  {
   "cell_type": "code",
   "execution_count": 654,
   "metadata": {},
   "outputs": [],
   "source": [
    "model.compile(loss='sparse_categorical_crossentropy', optimizer = 'adam', metrics='accuracy')\n"
   ]
  },
  {
   "cell_type": "code",
   "execution_count": 655,
   "metadata": {},
   "outputs": [
    {
     "name": "stdout",
     "output_type": "stream",
     "text": [
      "Epoch 1/100\n",
      "7/7 [==============================] - 0s 27ms/step - loss: 1.1167 - accuracy: 0.3252 - val_loss: 1.0620 - val_accuracy: 0.5072\n",
      "Epoch 2/100\n",
      "7/7 [==============================] - 0s 5ms/step - loss: 1.0174 - accuracy: 0.4806 - val_loss: 1.0029 - val_accuracy: 0.7101\n",
      "Epoch 3/100\n",
      "7/7 [==============================] - 0s 4ms/step - loss: 0.9402 - accuracy: 0.6456 - val_loss: 0.9427 - val_accuracy: 0.7971\n",
      "Epoch 4/100\n",
      "7/7 [==============================] - 0s 5ms/step - loss: 0.8567 - accuracy: 0.7767 - val_loss: 0.8816 - val_accuracy: 0.8116\n",
      "Epoch 5/100\n",
      "7/7 [==============================] - 0s 2ms/step - loss: 0.7851 - accuracy: 0.8155 - val_loss: 0.8135 - val_accuracy: 0.8406\n",
      "Epoch 6/100\n",
      "7/7 [==============================] - 0s 4ms/step - loss: 0.7114 - accuracy: 0.8447 - val_loss: 0.7381 - val_accuracy: 0.8696\n",
      "Epoch 7/100\n",
      "7/7 [==============================] - 0s 4ms/step - loss: 0.6498 - accuracy: 0.8835 - val_loss: 0.6651 - val_accuracy: 0.8841\n",
      "Epoch 8/100\n",
      "7/7 [==============================] - 0s 3ms/step - loss: 0.5907 - accuracy: 0.9175 - val_loss: 0.5998 - val_accuracy: 0.9275\n",
      "Epoch 9/100\n",
      "7/7 [==============================] - 0s 4ms/step - loss: 0.5091 - accuracy: 0.9660 - val_loss: 0.5385 - val_accuracy: 0.9275\n",
      "Epoch 10/100\n",
      "7/7 [==============================] - 0s 4ms/step - loss: 0.4430 - accuracy: 0.9612 - val_loss: 0.4780 - val_accuracy: 0.9420\n",
      "Epoch 11/100\n",
      "7/7 [==============================] - 0s 5ms/step - loss: 0.3893 - accuracy: 0.9515 - val_loss: 0.4167 - val_accuracy: 0.9565\n",
      "Epoch 12/100\n",
      "7/7 [==============================] - 0s 4ms/step - loss: 0.3350 - accuracy: 0.9515 - val_loss: 0.3678 - val_accuracy: 0.9710\n",
      "Epoch 13/100\n",
      "7/7 [==============================] - 0s 4ms/step - loss: 0.2911 - accuracy: 0.9709 - val_loss: 0.3316 - val_accuracy: 0.9565\n",
      "Epoch 14/100\n",
      "7/7 [==============================] - 0s 5ms/step - loss: 0.2410 - accuracy: 0.9757 - val_loss: 0.2947 - val_accuracy: 0.9565\n",
      "Epoch 15/100\n",
      "7/7 [==============================] - 0s 4ms/step - loss: 0.2307 - accuracy: 0.9612 - val_loss: 0.2636 - val_accuracy: 0.9710\n",
      "Epoch 16/100\n",
      "7/7 [==============================] - 0s 2ms/step - loss: 0.2112 - accuracy: 0.9709 - val_loss: 0.2387 - val_accuracy: 0.9565\n",
      "Epoch 17/100\n",
      "7/7 [==============================] - 0s 4ms/step - loss: 0.1891 - accuracy: 0.9709 - val_loss: 0.2141 - val_accuracy: 0.9710\n",
      "Epoch 18/100\n",
      "7/7 [==============================] - 0s 3ms/step - loss: 0.1563 - accuracy: 0.9709 - val_loss: 0.1989 - val_accuracy: 0.9710\n",
      "Epoch 19/100\n",
      "7/7 [==============================] - 0s 4ms/step - loss: 0.1481 - accuracy: 0.9660 - val_loss: 0.1845 - val_accuracy: 0.9565\n",
      "Epoch 20/100\n",
      "7/7 [==============================] - 0s 4ms/step - loss: 0.1360 - accuracy: 0.9757 - val_loss: 0.1686 - val_accuracy: 0.9710\n",
      "Epoch 21/100\n",
      "7/7 [==============================] - 0s 5ms/step - loss: 0.1240 - accuracy: 0.9757 - val_loss: 0.1578 - val_accuracy: 0.9565\n",
      "Epoch 22/100\n",
      "7/7 [==============================] - 0s 4ms/step - loss: 0.1059 - accuracy: 0.9757 - val_loss: 0.1442 - val_accuracy: 0.9710\n",
      "Epoch 23/100\n",
      "7/7 [==============================] - 0s 4ms/step - loss: 0.1056 - accuracy: 0.9854 - val_loss: 0.1298 - val_accuracy: 0.9710\n",
      "Epoch 24/100\n",
      "7/7 [==============================] - 0s 3ms/step - loss: 0.1001 - accuracy: 0.9757 - val_loss: 0.1191 - val_accuracy: 0.9710\n",
      "Epoch 25/100\n",
      "7/7 [==============================] - 0s 4ms/step - loss: 0.0965 - accuracy: 0.9806 - val_loss: 0.1096 - val_accuracy: 0.9710\n",
      "Epoch 26/100\n",
      "7/7 [==============================] - 0s 4ms/step - loss: 0.0871 - accuracy: 0.9806 - val_loss: 0.1058 - val_accuracy: 0.9710\n",
      "Epoch 27/100\n",
      "7/7 [==============================] - 0s 3ms/step - loss: 0.0755 - accuracy: 0.9903 - val_loss: 0.0998 - val_accuracy: 0.9710\n",
      "Epoch 28/100\n",
      "7/7 [==============================] - 0s 4ms/step - loss: 0.0801 - accuracy: 0.9854 - val_loss: 0.0971 - val_accuracy: 0.9710\n",
      "Wall time: 1.53 s\n"
     ]
    }
   ],
   "source": [
    "%%time\n",
    "result = model.fit(x_train, y_train, batch_size=32, epochs=100 ,validation_data=(x_test, y_test), callbacks=[early])"
   ]
  },
  {
   "cell_type": "code",
   "execution_count": 656,
   "metadata": {},
   "outputs": [
    {
     "data": {
      "text/plain": [
       "<AxesSubplot:>"
      ]
     },
     "execution_count": 656,
     "metadata": {},
     "output_type": "execute_result"
    },
    {
     "data": {
      "image/png": "[encoded data removed]",
      "text/plain": [
       "<Figure size 432x288 with 1 Axes>"
      ]
     },
     "metadata": {
      "needs_background": "light"
     },
     "output_type": "display_data"
    }
   ],
   "source": [
    "import pandas as pd\n",
    "pd.DataFrame(result.history).plot()"
   ]
  }
 ],
 "metadata": {
  "kernelspec": {
   "display_name": "Python 3",
   "language": "python",
   "name": "python3"
  },
  "language_info": {
   "codemirror_mode": {
    "name": "ipython",
    "version": 3
   },
   "file_extension": ".py",
   "mimetype": "text/x-python",
   "name": "python",
   "nbconvert_exporter": "python",
   "pygments_lexer": "ipython3",
   "version": "3.8.5"
  }
 },
 "nbformat": 4,
 "nbformat_minor": 4
}
