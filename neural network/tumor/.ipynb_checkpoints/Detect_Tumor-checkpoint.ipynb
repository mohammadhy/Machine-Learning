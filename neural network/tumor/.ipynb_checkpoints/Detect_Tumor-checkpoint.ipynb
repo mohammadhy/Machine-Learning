{
 "cells": [
  {
   "cell_type": "code",
   "execution_count": 264,
   "metadata": {},
   "outputs": [],
   "source": [
    "import os\n",
    "from tensorflow import keras"
   ]
  },
  {
   "cell_type": "markdown",
   "metadata": {},
   "source": [
    "## Start Creat With Opencv:\n",
    "## Edge_Canny:"
   ]
  },
  {
   "cell_type": "code",
   "execution_count": 9,
   "metadata": {},
   "outputs": [],
   "source": [
    "path = 'Modified_Dataset/Train/'"
   ]
  },
  {
   "cell_type": "code",
   "execution_count": 10,
   "metadata": {},
   "outputs": [],
   "source": [
    "class_name = os.listdir(path)"
   ]
  },
  {
   "cell_type": "code",
   "execution_count": 34,
   "metadata": {},
   "outputs": [],
   "source": [
    "import matplotlib.pyplot as plt\n",
    "from skimage import io, color\n",
    "from skimage.transform import rescale, resize, downscale_local_mean\n",
    "import numpy as np\n",
    "from skimage import feature"
   ]
  },
  {
   "cell_type": "code",
   "execution_count": 309,
   "metadata": {},
   "outputs": [],
   "source": [
    "x = []\n",
    "y = []\n",
    "for label in class_name:\n",
    "    dir = os.path.join(path, label) + '/'\n",
    "    #print(path_img)\n",
    "    current_label = label\n",
    "    for path_image in os.listdir(dir):\n",
    "        #print(path_image)\n",
    "        image_path = os.path.join(dir, path_image)\n",
    "        #print(image_path)\n",
    "        img = io.imread(image_path)\n",
    "        #print(np.shape(img))\n",
    "        #img_rescaled = rescale(img, 1.0 / 2.0, anti_aliasing=False)\n",
    "        edge_canny = feature.canny(img, sigma=0.95)\n",
    "        x.append(edge_canny)\n",
    "        y.append(current_label)"
   ]
  },
  {
   "cell_type": "code",
   "execution_count": 301,
   "metadata": {},
   "outputs": [
    {
     "data": {
      "text/plain": [
       "(array([False,  True]), array([32929,  1581], dtype=int64))"
      ]
     },
     "execution_count": 301,
     "metadata": {},
     "output_type": "execute_result"
    }
   ],
   "source": [
    "np.unique(edge_canny, return_counts=True)"
   ]
  },
  {
   "cell_type": "code",
   "execution_count": 310,
   "metadata": {},
   "outputs": [],
   "source": [
    "x = np.array(x)\n",
    "x = x.astype('uint8')"
   ]
  },
  {
   "cell_type": "code",
   "execution_count": 311,
   "metadata": {},
   "outputs": [
    {
     "data": {
      "text/plain": [
       "(1050, 170, 203)"
      ]
     },
     "execution_count": 311,
     "metadata": {},
     "output_type": "execute_result"
    }
   ],
   "source": [
    "x.shape"
   ]
  },
  {
   "cell_type": "code",
   "execution_count": 313,
   "metadata": {},
   "outputs": [
    {
     "data": {
      "text/plain": [
       "(1050,)"
      ]
     },
     "execution_count": 313,
     "metadata": {},
     "output_type": "execute_result"
    }
   ],
   "source": [
    "y = np.array(y)\n",
    "y.shape"
   ]
  },
  {
   "cell_type": "code",
   "execution_count": 314,
   "metadata": {},
   "outputs": [],
   "source": [
    "from sklearn.preprocessing import LabelEncoder\n",
    "lb = LabelEncoder()\n",
    "y = lb.fit_transform(y)"
   ]
  },
  {
   "cell_type": "code",
   "execution_count": 315,
   "metadata": {},
   "outputs": [
    {
     "data": {
      "text/plain": [
       "(array([0, 1, 2], dtype=int64), array([350, 350, 350], dtype=int64))"
      ]
     },
     "execution_count": 315,
     "metadata": {},
     "output_type": "execute_result"
    }
   ],
   "source": [
    "np.unique(y, return_counts=True)"
   ]
  },
  {
   "cell_type": "code",
   "execution_count": 316,
   "metadata": {},
   "outputs": [],
   "source": [
    "from sklearn.model_selection import train_test_split\n",
    "x_train, x_test, y_train, y_test = train_test_split(x, y, random_state = 1369)"
   ]
  },
  {
   "cell_type": "code",
   "execution_count": 360,
   "metadata": {},
   "outputs": [],
   "source": [
    "model = keras.models.Sequential()\n",
    "model.add(keras.layers.Flatten(input_shape = (170, 203)))\n",
    "model.add(keras.layers.Dense(8, activation = 'elu'))\n",
    "model.add(keras.layers.Dropout(0.3))\n",
    "model.add(keras.layers.Dense(4, activation = 'elu'))\n",
    "model.add(keras.layers.Dense(3, activation = 'softmax'))"
   ]
  },
  {
   "cell_type": "code",
   "execution_count": 361,
   "metadata": {},
   "outputs": [
    {
     "name": "stdout",
     "output_type": "stream",
     "text": [
      "Model: \"sequential_9\"\n",
      "_________________________________________________________________\n",
      "Layer (type)                 Output Shape              Param #   \n",
      "=================================================================\n",
      "flatten_7 (Flatten)          (None, 34510)             0         \n",
      "_________________________________________________________________\n",
      "dense_27 (Dense)             (None, 8)                 276088    \n",
      "_________________________________________________________________\n",
      "dropout_12 (Dropout)         (None, 8)                 0         \n",
      "_________________________________________________________________\n",
      "dense_28 (Dense)             (None, 4)                 36        \n",
      "_________________________________________________________________\n",
      "dense_29 (Dense)             (None, 3)                 15        \n",
      "=================================================================\n",
      "Total params: 276,139\n",
      "Trainable params: 276,139\n",
      "Non-trainable params: 0\n",
      "_________________________________________________________________\n"
     ]
    }
   ],
   "source": [
    "model.summary()"
   ]
  },
  {
   "cell_type": "code",
   "execution_count": 362,
   "metadata": {},
   "outputs": [],
   "source": [
    "early = keras.callbacks.EarlyStopping()"
   ]
  },
  {
   "cell_type": "code",
   "execution_count": 363,
   "metadata": {},
   "outputs": [],
   "source": [
    "model.compile(loss='sparse_categorical_crossentropy', optimizer = 'adam', metrics='accuracy')"
   ]
  },
  {
   "cell_type": "code",
   "execution_count": 364,
   "metadata": {},
   "outputs": [
    {
     "name": "stdout",
     "output_type": "stream",
     "text": [
      "Epoch 1/100\n",
      "61/61 [==============================] - 0s 7ms/step - loss: 0.6046 - accuracy: 0.7268 - val_loss: 0.2577 - val_accuracy: 0.9696\n",
      "Epoch 2/100\n",
      "61/61 [==============================] - 0s 4ms/step - loss: 0.2950 - accuracy: 0.9149 - val_loss: 0.1937 - val_accuracy: 0.9924\n",
      "Epoch 3/100\n",
      "61/61 [==============================] - 0s 4ms/step - loss: 0.2237 - accuracy: 0.9619 - val_loss: 0.1460 - val_accuracy: 0.9848\n",
      "Epoch 4/100\n",
      "61/61 [==============================] - 0s 4ms/step - loss: 0.1600 - accuracy: 0.9644 - val_loss: 0.1151 - val_accuracy: 0.9848\n",
      "Epoch 5/100\n",
      "61/61 [==============================] - 0s 4ms/step - loss: 0.1341 - accuracy: 0.9771 - val_loss: 0.0856 - val_accuracy: 0.9924\n",
      "Epoch 6/100\n",
      "61/61 [==============================] - 0s 4ms/step - loss: 0.1022 - accuracy: 0.9898 - val_loss: 0.0752 - val_accuracy: 0.9848\n",
      "Epoch 7/100\n",
      "61/61 [==============================] - 0s 4ms/step - loss: 0.0836 - accuracy: 0.9898 - val_loss: 0.0745 - val_accuracy: 0.9848\n",
      "Epoch 8/100\n",
      "61/61 [==============================] - 0s 4ms/step - loss: 0.0819 - accuracy: 0.9886 - val_loss: 0.0659 - val_accuracy: 0.9886\n",
      "Epoch 9/100\n",
      "61/61 [==============================] - 0s 4ms/step - loss: 0.0621 - accuracy: 0.9936 - val_loss: 0.0541 - val_accuracy: 0.9886\n",
      "Epoch 10/100\n",
      "61/61 [==============================] - 0s 4ms/step - loss: 0.0580 - accuracy: 0.9924 - val_loss: 0.0629 - val_accuracy: 0.9886\n"
     ]
    }
   ],
   "source": [
    "result = model.fit(x_train, y_train, batch_size=13, epochs=100 ,validation_data=(x_test, y_test), callbacks=[early])"
   ]
  },
  {
   "cell_type": "code",
   "execution_count": 365,
   "metadata": {},
   "outputs": [
    {
     "data": {
      "text/plain": [
       "<AxesSubplot:>"
      ]
     },
     "execution_count": 365,
     "metadata": {},
     "output_type": "execute_result"
    },
    {
     "data": {
      "image/png": "[encoded data removed]",
      "text/plain": [
       "<Figure size 432x288 with 1 Axes>"
      ]
     },
     "metadata": {
      "needs_background": "light"
     },
     "output_type": "display_data"
    }
   ],
   "source": [
    "import pandas as pd\n",
    "pd.DataFrame(result.history).plot()"
   ]
  },
  {
   "cell_type": "code",
   "execution_count": null,
   "metadata": {},
   "outputs": [],
   "source": []
  },
  {
   "cell_type": "code",
   "execution_count": 299,
   "metadata": {},
   "outputs": [],
   "source": []
  },
  {
   "cell_type": "code",
   "execution_count": null,
   "metadata": {},
   "outputs": [],
   "source": []
  }
 ],
 "metadata": {
  "kernelspec": {
   "display_name": "Python 3",
   "language": "python",
   "name": "python3"
  },
  "language_info": {
   "codemirror_mode": {
    "name": "ipython",
    "version": 3
   },
   "file_extension": ".py",
   "mimetype": "text/x-python",
   "name": "python",
   "nbconvert_exporter": "python",
   "pygments_lexer": "ipython3",
   "version": "3.8.5"
  }
 },
 "nbformat": 4,
 "nbformat_minor": 4
}
