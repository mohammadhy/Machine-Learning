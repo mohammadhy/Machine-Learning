{
 "cells": [
  {
   "cell_type": "markdown",
   "metadata": {},
   "source": [
    "# First We Go On Photo:"
   ]
  },
  {
   "cell_type": "code",
   "execution_count": 1,
   "metadata": {},
   "outputs": [],
   "source": [
    "import cv2\n",
    "import numpy as np\n",
    "import pandas as pd\n",
    "import os\n",
    "import glob\n",
    "from sklearn.preprocessing import StandardScaler\n",
    "from sklearn.model_selection import train_test_split\n",
    "from matplotlib import pyplot as plt"
   ]
  },
  {
   "cell_type": "code",
   "execution_count": 2,
   "metadata": {},
   "outputs": [],
   "source": [
    "text_data = pd.read_csv('Houses-dataset-master/HousesInfo.txt', sep= ' '\n",
    "                        , names=['bedrooms', 'bathroom','area','zipcode','price'], header=None)"
   ]
  },
  {
   "cell_type": "code",
   "execution_count": 3,
   "metadata": {},
   "outputs": [
    {
     "data": {
      "text/html": [
       "<div>\n",
       "<style scoped>\n",
       "    .dataframe tbody tr th:only-of-type {\n",
       "        vertical-align: middle;\n",
       "    }\n",
       "\n",
       "    .dataframe tbody tr th {\n",
       "        vertical-align: top;\n",
       "    }\n",
       "\n",
       "    .dataframe thead th {\n",
       "        text-align: right;\n",
       "    }\n",
       "</style>\n",
       "<table border=\"1\" class=\"dataframe\">\n",
       "  <thead>\n",
       "    <tr style=\"text-align: right;\">\n",
       "      <th></th>\n",
       "      <th>bedrooms</th>\n",
       "      <th>bathroom</th>\n",
       "      <th>area</th>\n",
       "      <th>zipcode</th>\n",
       "      <th>price</th>\n",
       "    </tr>\n",
       "  </thead>\n",
       "  <tbody>\n",
       "    <tr>\n",
       "      <th>0</th>\n",
       "      <td>4</td>\n",
       "      <td>4.0</td>\n",
       "      <td>4053</td>\n",
       "      <td>85255</td>\n",
       "      <td>869500</td>\n",
       "    </tr>\n",
       "    <tr>\n",
       "      <th>1</th>\n",
       "      <td>4</td>\n",
       "      <td>3.0</td>\n",
       "      <td>3343</td>\n",
       "      <td>36372</td>\n",
       "      <td>865200</td>\n",
       "    </tr>\n",
       "    <tr>\n",
       "      <th>2</th>\n",
       "      <td>3</td>\n",
       "      <td>4.0</td>\n",
       "      <td>3923</td>\n",
       "      <td>85266</td>\n",
       "      <td>889000</td>\n",
       "    </tr>\n",
       "    <tr>\n",
       "      <th>3</th>\n",
       "      <td>5</td>\n",
       "      <td>5.0</td>\n",
       "      <td>4022</td>\n",
       "      <td>85262</td>\n",
       "      <td>910000</td>\n",
       "    </tr>\n",
       "    <tr>\n",
       "      <th>4</th>\n",
       "      <td>3</td>\n",
       "      <td>4.0</td>\n",
       "      <td>4116</td>\n",
       "      <td>85266</td>\n",
       "      <td>971226</td>\n",
       "    </tr>\n",
       "    <tr>\n",
       "      <th>...</th>\n",
       "      <td>...</td>\n",
       "      <td>...</td>\n",
       "      <td>...</td>\n",
       "      <td>...</td>\n",
       "      <td>...</td>\n",
       "    </tr>\n",
       "    <tr>\n",
       "      <th>530</th>\n",
       "      <td>5</td>\n",
       "      <td>2.0</td>\n",
       "      <td>2066</td>\n",
       "      <td>94531</td>\n",
       "      <td>399900</td>\n",
       "    </tr>\n",
       "    <tr>\n",
       "      <th>531</th>\n",
       "      <td>4</td>\n",
       "      <td>3.5</td>\n",
       "      <td>9536</td>\n",
       "      <td>94531</td>\n",
       "      <td>460000</td>\n",
       "    </tr>\n",
       "    <tr>\n",
       "      <th>532</th>\n",
       "      <td>3</td>\n",
       "      <td>2.0</td>\n",
       "      <td>2014</td>\n",
       "      <td>94531</td>\n",
       "      <td>407000</td>\n",
       "    </tr>\n",
       "    <tr>\n",
       "      <th>533</th>\n",
       "      <td>4</td>\n",
       "      <td>3.0</td>\n",
       "      <td>2312</td>\n",
       "      <td>94531</td>\n",
       "      <td>419000</td>\n",
       "    </tr>\n",
       "    <tr>\n",
       "      <th>534</th>\n",
       "      <td>5</td>\n",
       "      <td>3.0</td>\n",
       "      <td>3796</td>\n",
       "      <td>94531</td>\n",
       "      <td>615000</td>\n",
       "    </tr>\n",
       "  </tbody>\n",
       "</table>\n",
       "<p>535 rows × 5 columns</p>\n",
       "</div>"
      ],
      "text/plain": [
       "     bedrooms  bathroom  area  zipcode   price\n",
       "0           4       4.0  4053    85255  869500\n",
       "1           4       3.0  3343    36372  865200\n",
       "2           3       4.0  3923    85266  889000\n",
       "3           5       5.0  4022    85262  910000\n",
       "4           3       4.0  4116    85266  971226\n",
       "..        ...       ...   ...      ...     ...\n",
       "530         5       2.0  2066    94531  399900\n",
       "531         4       3.5  9536    94531  460000\n",
       "532         3       2.0  2014    94531  407000\n",
       "533         4       3.0  2312    94531  419000\n",
       "534         5       3.0  3796    94531  615000\n",
       "\n",
       "[535 rows x 5 columns]"
      ]
     },
     "execution_count": 3,
     "metadata": {},
     "output_type": "execute_result"
    }
   ],
   "source": [
    "text_data"
   ]
  },
  {
   "cell_type": "code",
   "execution_count": 4,
   "metadata": {},
   "outputs": [],
   "source": [
    "main_image = []\n",
    "for i in text_data.index.values:\n",
    "    #print(i)\n",
    "    basepath = os.path.sep.join(['Houses-dataset-master\\HousesDataset', '{}_*'.format(i + 1)])\n",
    "    #print(basepath)\n",
    "    path_imgs = sorted(glob.glob(basepath))\n",
    "    input_img = []\n",
    "    for path_img in path_imgs:\n",
    "        image = cv2.imread(path_img)\n",
    "        image_rgb = cv2.cvtColor(image, cv2.COLOR_BGR2RGB)\n",
    "        image_resise = cv2.resize(image_rgb, (64, 64))\n",
    "        input_img.append(image_resise)\n",
    "    output_img = np.zeros((128, 128, 3), dtype = ('uint8'))\n",
    "    output_img[0:64, 0:64] = input_img[0]\n",
    "    output_img[0:64, 64:128] = input_img[1]\n",
    "    output_img[64:128, 64:128] = input_img[2]\n",
    "    output_img[64:128, 0:64] = input_img[3]\n",
    "    main_image.append(output_img)"
   ]
  },
  {
   "cell_type": "code",
   "execution_count": 5,
   "metadata": {},
   "outputs": [
    {
     "data": {
      "text/plain": [
       "<matplotlib.image.AxesImage at 0x21be66fbbb0>"
      ]
     },
     "execution_count": 5,
     "metadata": {},
     "output_type": "execute_result"
    },
    {
     "data": {
      "image/png": "[encoded data removed]",
      "text/plain": [
       "<Figure size 432x288 with 1 Axes>"
      ]
     },
     "metadata": {
      "needs_background": "light"
     },
     "output_type": "display_data"
    }
   ],
   "source": [
    "plt.imshow(main_image[0])"
   ]
  },
  {
   "cell_type": "code",
   "execution_count": 6,
   "metadata": {},
   "outputs": [],
   "source": [
    "main_image = np.array(main_image)"
   ]
  },
  {
   "cell_type": "code",
   "execution_count": 7,
   "metadata": {},
   "outputs": [],
   "source": [
    "x_train, x_test, img_xtrain, img_xtest = train_test_split(text_data, main_image)"
   ]
  },
  {
   "cell_type": "code",
   "execution_count": 8,
   "metadata": {},
   "outputs": [],
   "source": [
    "max_price = x_train['price'].max()\n",
    "y_train = x_train['price'] / max_price\n",
    "y_test = x_test['price'] / max_price"
   ]
  },
  {
   "cell_type": "markdown",
   "metadata": {},
   "source": [
    "## Create Model For Photo:\n"
   ]
  },
  {
   "cell_type": "code",
   "execution_count": 9,
   "metadata": {},
   "outputs": [],
   "source": [
    "from tensorflow.keras import models\n",
    "from tensorflow.keras import layers"
   ]
  },
  {
   "cell_type": "code",
   "execution_count": 10,
   "metadata": {},
   "outputs": [],
   "source": [
    "input_image = layers.Input(shape=(128, 128, 3))\n",
    "\n",
    "conv1 = layers.Conv2D(16, (3, 3), padding = 'same', activation = 'elu')(input_image)\n",
    "batch1 = layers.BatchNormalization(axis = -1)(conv1)\n",
    "max1 = layers.MaxPooling2D(2)(batch1)\n",
    "\n",
    "conv2 = layers.Conv2D(32,(3, 3), padding = 'same', activation = 'elu')(max1)\n",
    "batch2 = layers.BatchNormalization(axis = -1)(conv2)\n",
    "max2 = layers.MaxPooling2D(2)(batch2)\n",
    "\n",
    "conv3 = layers.Conv2D(64, (3, 3), padding = 'same', activation = 'elu')(max2)\n",
    "batch3 = layers.BatchNormalization(axis = -1)(conv3)\n",
    "max3 = layers.MaxPooling2D(2)(batch3)\n",
    "\n",
    "flat1 = layers.Flatten()(max3)\n",
    "\n",
    "den1 = layers.Dense(32, activation = 'elu')(flat1)\n",
    "batch4 = layers.BatchNormalization(axis = -1)(den1)\n",
    "drop1 = layers.Dropout(0.5)(batch4)\n",
    "den2 = layers.Dense(16, activation = 'elu')(drop1)\n",
    "\n",
    "model_photo = models.Model(input_image, den2)"
   ]
  },
  {
   "cell_type": "code",
   "execution_count": 11,
   "metadata": {},
   "outputs": [
    {
     "name": "stdout",
     "output_type": "stream",
     "text": [
      "Model: \"functional_1\"\n",
      "_________________________________________________________________\n",
      "Layer (type)                 Output Shape              Param #   \n",
      "=================================================================\n",
      "input_1 (InputLayer)         [(None, 128, 128, 3)]     0         \n",
      "_________________________________________________________________\n",
      "conv2d (Conv2D)              (None, 128, 128, 16)      448       \n",
      "_________________________________________________________________\n",
      "batch_normalization (BatchNo (None, 128, 128, 16)      64        \n",
      "_________________________________________________________________\n",
      "max_pooling2d (MaxPooling2D) (None, 64, 64, 16)        0         \n",
      "_________________________________________________________________\n",
      "conv2d_1 (Conv2D)            (None, 64, 64, 32)        4640      \n",
      "_________________________________________________________________\n",
      "batch_normalization_1 (Batch (None, 64, 64, 32)        128       \n",
      "_________________________________________________________________\n",
      "max_pooling2d_1 (MaxPooling2 (None, 32, 32, 32)        0         \n",
      "_________________________________________________________________\n",
      "conv2d_2 (Conv2D)            (None, 32, 32, 64)        18496     \n",
      "_________________________________________________________________\n",
      "batch_normalization_2 (Batch (None, 32, 32, 64)        256       \n",
      "_________________________________________________________________\n",
      "max_pooling2d_2 (MaxPooling2 (None, 16, 16, 64)        0         \n",
      "_________________________________________________________________\n",
      "flatten (Flatten)            (None, 16384)             0         \n",
      "_________________________________________________________________\n",
      "dense (Dense)                (None, 32)                524320    \n",
      "_________________________________________________________________\n",
      "batch_normalization_3 (Batch (None, 32)                128       \n",
      "_________________________________________________________________\n",
      "dropout (Dropout)            (None, 32)                0         \n",
      "_________________________________________________________________\n",
      "dense_1 (Dense)              (None, 16)                528       \n",
      "=================================================================\n",
      "Total params: 549,008\n",
      "Trainable params: 548,720\n",
      "Non-trainable params: 288\n",
      "_________________________________________________________________\n"
     ]
    }
   ],
   "source": [
    "model_photo.summary()"
   ]
  },
  {
   "cell_type": "code",
   "execution_count": null,
   "metadata": {},
   "outputs": [],
   "source": []
  },
  {
   "cell_type": "code",
   "execution_count": 12,
   "metadata": {},
   "outputs": [],
   "source": [
    "std = StandardScaler()\n",
    "xtrain = std.fit_transform(x_train[['bedrooms', 'bathroom', 'area']])\n",
    "xtest = std.transform(x_test[['bedrooms', 'bathroom', 'area']])"
   ]
  },
  {
   "cell_type": "code",
   "execution_count": 13,
   "metadata": {},
   "outputs": [],
   "source": [
    "from sklearn.preprocessing import LabelBinarizer\n",
    "zipbinary = LabelBinarizer()\n",
    "zipbinary.fit(text_data['zipcode'])\n",
    "\n",
    "xtrainzip = zipbinary.transform(x_train['zipcode'])\n",
    "xtestzip = zipbinary.transform(x_test['zipcode'])"
   ]
  },
  {
   "cell_type": "code",
   "execution_count": 14,
   "metadata": {},
   "outputs": [],
   "source": [
    "xtrain = np.hstack([xtrain, xtrainzip])\n",
    "xtest = np.hstack([xtest, xtestzip])"
   ]
  },
  {
   "cell_type": "code",
   "execution_count": 15,
   "metadata": {},
   "outputs": [
    {
     "data": {
      "text/plain": [
       "(401, 52)"
      ]
     },
     "execution_count": 15,
     "metadata": {},
     "output_type": "execute_result"
    }
   ],
   "source": [
    "xtrain.shape"
   ]
  },
  {
   "cell_type": "code",
   "execution_count": 16,
   "metadata": {},
   "outputs": [
    {
     "data": {
      "text/plain": [
       "(134, 52)"
      ]
     },
     "execution_count": 16,
     "metadata": {},
     "output_type": "execute_result"
    }
   ],
   "source": [
    "xtest.shape"
   ]
  },
  {
   "cell_type": "markdown",
   "metadata": {},
   "source": [
    "# Creat Model For Text:"
   ]
  },
  {
   "cell_type": "code",
   "execution_count": 17,
   "metadata": {},
   "outputs": [],
   "source": [
    "model_text = models.Sequential()\n",
    "model_text.add(layers.Dense(16, activation = 'elu', input_dim = (52)))\n",
    "model_text.add(layers.Dropout(0.5))\n",
    "model_text.add(layers.Dense(8, activation = 'elu'))\n",
    "model_text.add(layers.Dense(4, activation = 'elu'))"
   ]
  },
  {
   "cell_type": "code",
   "execution_count": 18,
   "metadata": {},
   "outputs": [
    {
     "name": "stdout",
     "output_type": "stream",
     "text": [
      "Model: \"sequential\"\n",
      "_________________________________________________________________\n",
      "Layer (type)                 Output Shape              Param #   \n",
      "=================================================================\n",
      "dense_2 (Dense)              (None, 16)                848       \n",
      "_________________________________________________________________\n",
      "dropout_1 (Dropout)          (None, 16)                0         \n",
      "_________________________________________________________________\n",
      "dense_3 (Dense)              (None, 8)                 136       \n",
      "_________________________________________________________________\n",
      "dense_4 (Dense)              (None, 4)                 36        \n",
      "=================================================================\n",
      "Total params: 1,020\n",
      "Trainable params: 1,020\n",
      "Non-trainable params: 0\n",
      "_________________________________________________________________\n"
     ]
    }
   ],
   "source": [
    "model_text.summary()"
   ]
  },
  {
   "cell_type": "markdown",
   "metadata": {},
   "source": [
    "# Combined:"
   ]
  },
  {
   "cell_type": "code",
   "execution_count": 19,
   "metadata": {},
   "outputs": [],
   "source": [
    "combined_model = layers.concatenate([model_photo.output, model_text.output])"
   ]
  },
  {
   "cell_type": "code",
   "execution_count": 20,
   "metadata": {},
   "outputs": [],
   "source": [
    "dens9 = layers.Dense(8, activation = 'elu')(combined_model)\n",
    "dens10 = layers.Dense(1, activation = 'linear')(dens9)"
   ]
  },
  {
   "cell_type": "code",
   "execution_count": 21,
   "metadata": {},
   "outputs": [],
   "source": [
    "final_model = models.Model(inputs = [model_photo.input, model_text.input], outputs = dens10)"
   ]
  },
  {
   "cell_type": "code",
   "execution_count": 22,
   "metadata": {},
   "outputs": [
    {
     "name": "stdout",
     "output_type": "stream",
     "text": [
      "Model: \"functional_3\"\n",
      "__________________________________________________________________________________________________\n",
      "Layer (type)                    Output Shape         Param #     Connected to                     \n",
      "==================================================================================================\n",
      "input_1 (InputLayer)            [(None, 128, 128, 3) 0                                            \n",
      "__________________________________________________________________________________________________\n",
      "conv2d (Conv2D)                 (None, 128, 128, 16) 448         input_1[0][0]                    \n",
      "__________________________________________________________________________________________________\n",
      "batch_normalization (BatchNorma (None, 128, 128, 16) 64          conv2d[0][0]                     \n",
      "__________________________________________________________________________________________________\n",
      "max_pooling2d (MaxPooling2D)    (None, 64, 64, 16)   0           batch_normalization[0][0]        \n",
      "__________________________________________________________________________________________________\n",
      "conv2d_1 (Conv2D)               (None, 64, 64, 32)   4640        max_pooling2d[0][0]              \n",
      "__________________________________________________________________________________________________\n",
      "batch_normalization_1 (BatchNor (None, 64, 64, 32)   128         conv2d_1[0][0]                   \n",
      "__________________________________________________________________________________________________\n",
      "max_pooling2d_1 (MaxPooling2D)  (None, 32, 32, 32)   0           batch_normalization_1[0][0]      \n",
      "__________________________________________________________________________________________________\n",
      "conv2d_2 (Conv2D)               (None, 32, 32, 64)   18496       max_pooling2d_1[0][0]            \n",
      "__________________________________________________________________________________________________\n",
      "batch_normalization_2 (BatchNor (None, 32, 32, 64)   256         conv2d_2[0][0]                   \n",
      "__________________________________________________________________________________________________\n",
      "max_pooling2d_2 (MaxPooling2D)  (None, 16, 16, 64)   0           batch_normalization_2[0][0]      \n",
      "__________________________________________________________________________________________________\n",
      "flatten (Flatten)               (None, 16384)        0           max_pooling2d_2[0][0]            \n",
      "__________________________________________________________________________________________________\n",
      "dense_2_input (InputLayer)      [(None, 52)]         0                                            \n",
      "__________________________________________________________________________________________________\n",
      "dense (Dense)                   (None, 32)           524320      flatten[0][0]                    \n",
      "__________________________________________________________________________________________________\n",
      "dense_2 (Dense)                 (None, 16)           848         dense_2_input[0][0]              \n",
      "__________________________________________________________________________________________________\n",
      "batch_normalization_3 (BatchNor (None, 32)           128         dense[0][0]                      \n",
      "__________________________________________________________________________________________________\n",
      "dropout_1 (Dropout)             (None, 16)           0           dense_2[0][0]                    \n",
      "__________________________________________________________________________________________________\n",
      "dropout (Dropout)               (None, 32)           0           batch_normalization_3[0][0]      \n",
      "__________________________________________________________________________________________________\n",
      "dense_3 (Dense)                 (None, 8)            136         dropout_1[0][0]                  \n",
      "__________________________________________________________________________________________________\n",
      "dense_1 (Dense)                 (None, 16)           528         dropout[0][0]                    \n",
      "__________________________________________________________________________________________________\n",
      "dense_4 (Dense)                 (None, 4)            36          dense_3[0][0]                    \n",
      "__________________________________________________________________________________________________\n",
      "concatenate (Concatenate)       (None, 20)           0           dense_1[0][0]                    \n",
      "                                                                 dense_4[0][0]                    \n",
      "__________________________________________________________________________________________________\n",
      "dense_5 (Dense)                 (None, 8)            168         concatenate[0][0]                \n",
      "__________________________________________________________________________________________________\n",
      "dense_6 (Dense)                 (None, 1)            9           dense_5[0][0]                    \n",
      "==================================================================================================\n",
      "Total params: 550,205\n",
      "Trainable params: 549,917\n",
      "Non-trainable params: 288\n",
      "__________________________________________________________________________________________________\n"
     ]
    }
   ],
   "source": [
    "final_model.summary()"
   ]
  },
  {
   "cell_type": "code",
   "execution_count": 23,
   "metadata": {},
   "outputs": [],
   "source": [
    "from tensorflow.keras.utils import plot_model"
   ]
  },
  {
   "cell_type": "code",
   "execution_count": 24,
   "metadata": {},
   "outputs": [
    {
     "name": "stdout",
     "output_type": "stream",
     "text": [
      "('Failed to import pydot. You must `pip install pydot` and install graphviz (https://graphviz.gitlab.io/download/), ', 'for `pydotprint` to work.')\n"
     ]
    }
   ],
   "source": [
    "plot_model(final_model)"
   ]
  },
  {
   "cell_type": "markdown",
   "metadata": {},
   "source": [
    "# Let's Train Model :"
   ]
  },
  {
   "cell_type": "code",
   "execution_count": 25,
   "metadata": {},
   "outputs": [],
   "source": [
    "final_model.compile(loss='mean_absolute_error', optimizer = 'adam')"
   ]
  },
  {
   "cell_type": "code",
   "execution_count": 26,
   "metadata": {},
   "outputs": [
    {
     "name": "stdout",
     "output_type": "stream",
     "text": [
      "Epoch 1/100\n",
      "41/41 [==============================] - 7s 160ms/step - loss: 0.7893 - val_loss: 1.3274\n",
      "Epoch 2/100\n",
      "41/41 [==============================] - 6s 158ms/step - loss: 0.4537 - val_loss: 0.3465\n",
      "Epoch 3/100\n",
      "41/41 [==============================] - 6s 153ms/step - loss: 0.3255 - val_loss: 0.3870\n",
      "Epoch 4/100\n",
      "41/41 [==============================] - 6s 152ms/step - loss: 0.2296 - val_loss: 0.2400\n",
      "Epoch 5/100\n",
      "41/41 [==============================] - 6s 153ms/step - loss: 0.1882 - val_loss: 0.1478\n",
      "Epoch 6/100\n",
      "41/41 [==============================] - 6s 152ms/step - loss: 0.1485 - val_loss: 0.1409\n",
      "Epoch 7/100\n",
      "41/41 [==============================] - 6s 153ms/step - loss: 0.1258 - val_loss: 0.1393\n",
      "Epoch 8/100\n",
      "41/41 [==============================] - 6s 154ms/step - loss: 0.1208 - val_loss: 0.1266\n",
      "Epoch 9/100\n",
      "41/41 [==============================] - 6s 154ms/step - loss: 0.1082 - val_loss: 0.0771\n",
      "Epoch 10/100\n",
      "41/41 [==============================] - 6s 153ms/step - loss: 0.1005 - val_loss: 0.0688\n",
      "Epoch 11/100\n",
      "41/41 [==============================] - 6s 153ms/step - loss: 0.0891 - val_loss: 0.0593\n",
      "Epoch 12/100\n",
      "41/41 [==============================] - 6s 153ms/step - loss: 0.0841 - val_loss: 0.0780\n",
      "Epoch 13/100\n",
      "41/41 [==============================] - 6s 153ms/step - loss: 0.0821 - val_loss: 0.0553\n",
      "Epoch 14/100\n",
      "41/41 [==============================] - 6s 153ms/step - loss: 0.0732 - val_loss: 0.0562\n",
      "Epoch 15/100\n",
      "41/41 [==============================] - 6s 154ms/step - loss: 0.0718 - val_loss: 0.0541\n",
      "Epoch 16/100\n",
      "41/41 [==============================] - 6s 153ms/step - loss: 0.0661 - val_loss: 0.0638\n",
      "Epoch 17/100\n",
      "41/41 [==============================] - 6s 156ms/step - loss: 0.0661 - val_loss: 0.0617\n",
      "Epoch 18/100\n",
      "41/41 [==============================] - 6s 154ms/step - loss: 0.0653 - val_loss: 0.0478\n",
      "Epoch 19/100\n",
      "41/41 [==============================] - 6s 153ms/step - loss: 0.0643 - val_loss: 0.0411\n",
      "Epoch 20/100\n",
      "41/41 [==============================] - 6s 154ms/step - loss: 0.0622 - val_loss: 0.0343\n",
      "Epoch 21/100\n",
      "41/41 [==============================] - 6s 154ms/step - loss: 0.0569 - val_loss: 0.0342\n",
      "Epoch 22/100\n",
      "41/41 [==============================] - 6s 153ms/step - loss: 0.0590 - val_loss: 0.0345\n",
      "Epoch 23/100\n",
      "41/41 [==============================] - 6s 154ms/step - loss: 0.0566 - val_loss: 0.0345\n",
      "Epoch 24/100\n",
      "41/41 [==============================] - 6s 153ms/step - loss: 0.0516 - val_loss: 0.0314\n",
      "Epoch 25/100\n",
      "41/41 [==============================] - 6s 153ms/step - loss: 0.0479 - val_loss: 0.0273\n",
      "Epoch 26/100\n",
      "41/41 [==============================] - 6s 156ms/step - loss: 0.0478 - val_loss: 0.0295\n",
      "Epoch 27/100\n",
      "41/41 [==============================] - 9s 215ms/step - loss: 0.0496 - val_loss: 0.0352\n",
      "Epoch 28/100\n",
      "41/41 [==============================] - 10s 235ms/step - loss: 0.0491 - val_loss: 0.0301\n",
      "Epoch 29/100\n",
      "41/41 [==============================] - 10s 239ms/step - loss: 0.0452 - val_loss: 0.0268\n",
      "Epoch 30/100\n",
      "41/41 [==============================] - 8s 187ms/step - loss: 0.0442 - val_loss: 0.0265\n",
      "Epoch 31/100\n",
      "41/41 [==============================] - 6s 158ms/step - loss: 0.0430 - val_loss: 0.0271\n",
      "Epoch 32/100\n",
      "41/41 [==============================] - 6s 158ms/step - loss: 0.0438 - val_loss: 0.0354\n",
      "Epoch 33/100\n",
      "41/41 [==============================] - 7s 160ms/step - loss: 0.0439 - val_loss: 0.0284\n",
      "Epoch 34/100\n",
      "41/41 [==============================] - 7s 159ms/step - loss: 0.0420 - val_loss: 0.0252\n",
      "Epoch 35/100\n",
      "41/41 [==============================] - 7s 159ms/step - loss: 0.0414 - val_loss: 0.0273\n",
      "Epoch 36/100\n",
      "41/41 [==============================] - 6s 158ms/step - loss: 0.0416 - val_loss: 0.0422\n",
      "Epoch 37/100\n",
      "41/41 [==============================] - 7s 160ms/step - loss: 0.0373 - val_loss: 0.0269\n",
      "Epoch 38/100\n",
      "41/41 [==============================] - 7s 159ms/step - loss: 0.0385 - val_loss: 0.0333\n",
      "Epoch 39/100\n",
      "41/41 [==============================] - 14s 350ms/step - loss: 0.0390 - val_loss: 0.0210\n",
      "Epoch 40/100\n",
      "41/41 [==============================] - 11s 272ms/step - loss: 0.0377 - val_loss: 0.0208\n",
      "Epoch 41/100\n",
      "41/41 [==============================] - 11s 280ms/step - loss: 0.0368 - val_loss: 0.0228\n",
      "Epoch 42/100\n",
      "41/41 [==============================] - 8s 191ms/step - loss: 0.0398 - val_loss: 0.0240\n",
      "Epoch 43/100\n",
      "41/41 [==============================] - 6s 158ms/step - loss: 0.0358 - val_loss: 0.0245\n",
      "Epoch 44/100\n",
      "41/41 [==============================] - 6s 154ms/step - loss: 0.0361 - val_loss: 0.0251\n",
      "Epoch 45/100\n",
      "41/41 [==============================] - 6s 151ms/step - loss: 0.0358 - val_loss: 0.0257\n",
      "Epoch 46/100\n",
      "41/41 [==============================] - 6s 153ms/step - loss: 0.0341 - val_loss: 0.0236\n",
      "Epoch 47/100\n",
      "41/41 [==============================] - 6s 152ms/step - loss: 0.0369 - val_loss: 0.0220\n",
      "Epoch 48/100\n",
      "41/41 [==============================] - 6s 151ms/step - loss: 0.0344 - val_loss: 0.0203\n",
      "Epoch 49/100\n",
      "41/41 [==============================] - 6s 152ms/step - loss: 0.0337 - val_loss: 0.0233\n",
      "Epoch 50/100\n",
      "41/41 [==============================] - 6s 151ms/step - loss: 0.0359 - val_loss: 0.0229\n",
      "Epoch 51/100\n",
      "41/41 [==============================] - 10s 237ms/step - loss: 0.0338 - val_loss: 0.0241\n",
      "Epoch 52/100\n",
      "41/41 [==============================] - 9s 225ms/step - loss: 0.0322 - val_loss: 0.0214\n",
      "Epoch 53/100\n",
      "41/41 [==============================] - 9s 225ms/step - loss: 0.0313 - val_loss: 0.0210\n",
      "Epoch 54/100\n",
      "41/41 [==============================] - 10s 234ms/step - loss: 0.0303 - val_loss: 0.0217\n",
      "Epoch 55/100\n",
      "41/41 [==============================] - 6s 149ms/step - loss: 0.0323 - val_loss: 0.0234\n",
      "Epoch 56/100\n",
      "41/41 [==============================] - 6s 151ms/step - loss: 0.0332 - val_loss: 0.0270\n",
      "Epoch 57/100\n",
      "41/41 [==============================] - 6s 150ms/step - loss: 0.0292 - val_loss: 0.0222\n",
      "Epoch 58/100\n",
      "41/41 [==============================] - 6s 150ms/step - loss: 0.0293 - val_loss: 0.0207\n",
      "Epoch 59/100\n",
      "41/41 [==============================] - 6s 150ms/step - loss: 0.0308 - val_loss: 0.0203\n",
      "Epoch 60/100\n",
      "41/41 [==============================] - 6s 151ms/step - loss: 0.0296 - val_loss: 0.0289\n",
      "Epoch 61/100\n",
      "41/41 [==============================] - 6s 150ms/step - loss: 0.0306 - val_loss: 0.0216\n",
      "Epoch 62/100\n",
      "41/41 [==============================] - 6s 151ms/step - loss: 0.0286 - val_loss: 0.0220\n",
      "Epoch 63/100\n",
      "41/41 [==============================] - 6s 152ms/step - loss: 0.0292 - val_loss: 0.0214\n",
      "Epoch 64/100\n",
      "41/41 [==============================] - 9s 230ms/step - loss: 0.0305 - val_loss: 0.0208\n",
      "Epoch 65/100\n",
      "41/41 [==============================] - 10s 246ms/step - loss: 0.0298 - val_loss: 0.0239\n",
      "Epoch 66/100\n",
      "41/41 [==============================] - 9s 219ms/step - loss: 0.0282 - val_loss: 0.0222\n",
      "Epoch 67/100\n",
      "41/41 [==============================] - 10s 237ms/step - loss: 0.0299 - val_loss: 0.0258\n",
      "Epoch 68/100\n",
      "41/41 [==============================] - 7s 160ms/step - loss: 0.0287 - val_loss: 0.0206\n",
      "Epoch 69/100\n",
      "41/41 [==============================] - 6s 152ms/step - loss: 0.0280 - val_loss: 0.0215\n",
      "Epoch 70/100\n",
      "41/41 [==============================] - 6s 155ms/step - loss: 0.0291 - val_loss: 0.0214\n",
      "Epoch 71/100\n",
      "41/41 [==============================] - 6s 156ms/step - loss: 0.0292 - val_loss: 0.0214\n",
      "Epoch 72/100\n",
      "41/41 [==============================] - 7s 159ms/step - loss: 0.0282 - val_loss: 0.0224\n",
      "Epoch 73/100\n",
      "41/41 [==============================] - 7s 161ms/step - loss: 0.0284 - val_loss: 0.0210\n",
      "Epoch 74/100\n",
      "41/41 [==============================] - 6s 156ms/step - loss: 0.0277 - val_loss: 0.0228\n",
      "Epoch 75/100\n",
      "41/41 [==============================] - 6s 155ms/step - loss: 0.0279 - val_loss: 0.0223\n",
      "Epoch 76/100\n",
      "41/41 [==============================] - 12s 290ms/step - loss: 0.0269 - val_loss: 0.0220\n",
      "Epoch 77/100\n",
      "41/41 [==============================] - 10s 252ms/step - loss: 0.0270 - val_loss: 0.0218\n",
      "Epoch 78/100\n",
      "41/41 [==============================] - 10s 246ms/step - loss: 0.0264 - val_loss: 0.0225\n",
      "Epoch 79/100\n",
      "41/41 [==============================] - 10s 251ms/step - loss: 0.0255 - val_loss: 0.0204\n",
      "Epoch 80/100\n",
      "41/41 [==============================] - 6s 154ms/step - loss: 0.0278 - val_loss: 0.0215\n",
      "Epoch 81/100\n"
     ]
    },
    {
     "name": "stdout",
     "output_type": "stream",
     "text": [
      "41/41 [==============================] - 6s 154ms/step - loss: 0.0258 - val_loss: 0.0219\n",
      "Epoch 82/100\n",
      "41/41 [==============================] - 6s 152ms/step - loss: 0.0267 - val_loss: 0.0219\n",
      "Epoch 83/100\n",
      "41/41 [==============================] - 6s 150ms/step - loss: 0.0259 - val_loss: 0.0211\n",
      "Epoch 84/100\n",
      "41/41 [==============================] - 6s 150ms/step - loss: 0.0265 - val_loss: 0.0216\n",
      "Epoch 85/100\n",
      "41/41 [==============================] - 6s 157ms/step - loss: 0.0235 - val_loss: 0.0220\n",
      "Epoch 86/100\n",
      "41/41 [==============================] - 6s 154ms/step - loss: 0.0235 - val_loss: 0.0215\n",
      "Epoch 87/100\n",
      "41/41 [==============================] - 6s 154ms/step - loss: 0.0230 - val_loss: 0.0245\n",
      "Epoch 88/100\n",
      "41/41 [==============================] - 8s 189ms/step - loss: 0.0261 - val_loss: 0.0259\n",
      "Epoch 89/100\n",
      "41/41 [==============================] - 11s 265ms/step - loss: 0.0260 - val_loss: 0.0236\n",
      "Epoch 90/100\n",
      "41/41 [==============================] - 10s 237ms/step - loss: 0.0249 - val_loss: 0.0229\n",
      "Epoch 91/100\n",
      "41/41 [==============================] - 11s 272ms/step - loss: 0.0254 - val_loss: 0.0251\n",
      "Epoch 92/100\n",
      "41/41 [==============================] - 8s 185ms/step - loss: 0.0231 - val_loss: 0.0223\n",
      "Epoch 93/100\n",
      "41/41 [==============================] - 6s 153ms/step - loss: 0.0220 - val_loss: 0.0236\n",
      "Epoch 94/100\n",
      "41/41 [==============================] - 6s 156ms/step - loss: 0.0245 - val_loss: 0.0210\n",
      "Epoch 95/100\n",
      "41/41 [==============================] - 6s 156ms/step - loss: 0.0248 - val_loss: 0.0231\n",
      "Epoch 96/100\n",
      "41/41 [==============================] - 6s 158ms/step - loss: 0.0239 - val_loss: 0.0215\n",
      "Epoch 97/100\n",
      "41/41 [==============================] - 6s 155ms/step - loss: 0.0251 - val_loss: 0.0209\n",
      "Epoch 98/100\n",
      "41/41 [==============================] - 6s 154ms/step - loss: 0.0234 - val_loss: 0.0211\n",
      "Epoch 99/100\n",
      "41/41 [==============================] - 6s 154ms/step - loss: 0.0246 - val_loss: 0.0238\n",
      "Epoch 100/100\n",
      "41/41 [==============================] - 11s 261ms/step - loss: 0.0233 - val_loss: 0.0194\n"
     ]
    }
   ],
   "source": [
    "res = final_model.fit([img_xtrain, xtrain], y_train, validation_data=([img_xtest, xtest], y_test),\n",
    "               epochs = 100, batch_size= 10)"
   ]
  },
  {
   "cell_type": "code",
   "execution_count": 27,
   "metadata": {},
   "outputs": [
    {
     "data": {
      "text/plain": [
       "<AxesSubplot:>"
      ]
     },
     "execution_count": 27,
     "metadata": {},
     "output_type": "execute_result"
    },
    {
     "data": {
      "image/png": "[encoded data removed]",
      "text/plain": [
       "<Figure size 432x288 with 1 Axes>"
      ]
     },
     "metadata": {
      "needs_background": "light"
     },
     "output_type": "display_data"
    }
   ],
   "source": [
    "pd.DataFrame(res.history).plot()"
   ]
  },
  {
   "cell_type": "code",
   "execution_count": 28,
   "metadata": {},
   "outputs": [],
   "source": [
    "predict = final_model.predict([img_xtest, xtest]) * max_price"
   ]
  },
  {
   "cell_type": "code",
   "execution_count": 34,
   "metadata": {},
   "outputs": [],
   "source": [
    "diff = abs(predict.flatten().round() - (y_test.values * max_price))"
   ]
  },
  {
   "cell_type": "code",
   "execution_count": 38,
   "metadata": {},
   "outputs": [
    {
     "data": {
      "text/plain": [
       "113639.0"
      ]
     },
     "execution_count": 38,
     "metadata": {},
     "output_type": "execute_result"
    }
   ],
   "source": [
    "diff.mean().round()"
   ]
  },
  {
   "cell_type": "code",
   "execution_count": 40,
   "metadata": {},
   "outputs": [
    {
     "data": {
      "text/plain": [
       "589363.0"
      ]
     },
     "execution_count": 40,
     "metadata": {},
     "output_type": "execute_result"
    }
   ],
   "source": [
    "text_data['price'].mean().round()"
   ]
  },
  {
   "cell_type": "code",
   "execution_count": 39,
   "metadata": {},
   "outputs": [
    {
     "data": {
      "text/plain": [
       "509026.0"
      ]
     },
     "execution_count": 39,
     "metadata": {},
     "output_type": "execute_result"
    }
   ],
   "source": [
    "text_data['price'].std().round()"
   ]
  },
  {
   "cell_type": "code",
   "execution_count": null,
   "metadata": {},
   "outputs": [],
   "source": []
  }
 ],
 "metadata": {
  "kernelspec": {
   "display_name": "Python 3",
   "language": "python",
   "name": "python3"
  },
  "language_info": {
   "codemirror_mode": {
    "name": "ipython",
    "version": 3
   },
   "file_extension": ".py",
   "mimetype": "text/x-python",
   "name": "python",
   "nbconvert_exporter": "python",
   "pygments_lexer": "ipython3",
   "version": "3.8.5"
  }
 },
 "nbformat": 4,
 "nbformat_minor": 4
}
