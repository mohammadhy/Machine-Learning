{
 "cells": [
  {
   "cell_type": "markdown",
   "metadata": {},
   "source": [
    "## Split Photo In Different Directory With Specific Labels:"
   ]
  },
  {
   "cell_type": "code",
   "execution_count": 31,
   "metadata": {
    "scrolled": false
   },
   "outputs": [
    {
     "name": "stdout",
     "output_type": "stream",
     "text": [
      "os.stat_result(st_mode=33206, st_ino=5348024557617251, st_dev=247230862, st_nlink=1, st_uid=0, st_gid=0, st_size=60270631, st_atime=1616322528, st_mtime=1616316091, st_ctime=1616316025)\n"
     ]
    }
   ],
   "source": [
    "import os \n",
    "print(os.stat('17flowers.tgz'))"
   ]
  },
  {
   "cell_type": "code",
   "execution_count": 32,
   "metadata": {},
   "outputs": [],
   "source": [
    "# For Extract File Use tarfile Library \n",
    "import tarfile\n",
    "t  = tarfile.open('17flowers.tgz')\n",
    "t.extractall(path='data') # In This Directory Extract File If You Want Another Path Change Path\n",
    "t.close()"
   ]
  },
  {
   "cell_type": "code",
   "execution_count": 33,
   "metadata": {},
   "outputs": [
    {
     "name": "stdout",
     "output_type": "stream",
     "text": [
      "If You Want To Work With Path Use (glob):\n",
      "Number Of Picture: 1360\n"
     ]
    }
   ],
   "source": [
    "print('If You Want To Work With Path Use (glob):') \n",
    "import glob\n",
    "paths =sorted(glob.glob('data\\jpg\\*.jpg'))\n",
    "print('Number Of Picture:' , len(paths))"
   ]
  },
  {
   "cell_type": "code",
   "execution_count": 34,
   "metadata": {},
   "outputs": [
    {
     "name": "stdout",
     "output_type": "stream",
     "text": [
      "This Is 17 Class_Name\n"
     ]
    }
   ],
   "source": [
    "print('This Is 17 Class_Name')\n",
    "class_name = ['buttercup', 'colts foot', 'daffodil', \n",
    "              'daisy', 'dandelion', 'fritillarty', \n",
    "              'iris', 'pansy', 'sunflawors',\n",
    "              'windflawors', 'snowdrop', 'lilyvalley',\n",
    "              'bluebell', 'crouss', 'tigerilty',\n",
    "              'tulip', 'cowslip']"
   ]
  },
  {
   "cell_type": "code",
   "execution_count": 35,
   "metadata": {},
   "outputs": [],
   "source": [
    "p = 'C:\\\\Users\\\\Pishtaz\\\\Documents\\\\GitHub\\\\Machine-Learning\\\\17_Categori_Flawors\\\\data\\\\'\n",
    "l = 0\n",
    "i = 0\n",
    "j = 80\n",
    "for k in range(1, 18): ## Because We Have 17 Class \n",
    "    # Now We Want To Make Dirctory For Every Class \n",
    "    os.makedirs( p + class_name[l])\n",
    "    current_path = p + class_name[l] + '\\\\'\n",
    "    for index, img_path in enumerate(paths[i:j], start = 1):\n",
    "        orginal = img_path\n",
    "        img_path = img_path.split('/')\n",
    "        img_file_name = str(index) + '.jpg'\n",
    "        os.rename(orginal, current_path + img_file_name)\n",
    "    l+=1\n",
    "    i+=80\n",
    "    j+=80"
   ]
  },
  {
   "cell_type": "code",
   "execution_count": null,
   "metadata": {},
   "outputs": [],
   "source": []
  }
 ],
 "metadata": {
  "kernelspec": {
   "display_name": "Python 3",
   "language": "python",
   "name": "python3"
  },
  "language_info": {
   "codemirror_mode": {
    "name": "ipython",
    "version": 3
   },
   "file_extension": ".py",
   "mimetype": "text/x-python",
   "name": "python",
   "nbconvert_exporter": "python",
   "pygments_lexer": "ipython3",
   "version": "3.8.5"
  }
 },
 "nbformat": 4,
 "nbformat_minor": 4
}
