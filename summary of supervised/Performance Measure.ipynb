{
 "cells": [
  {
   "cell_type": "markdown",
   "metadata": {},
   "source": [
    "######  using cross_validation"
   ]
  },
  {
   "cell_type": "markdown",
   "metadata": {},
   "source": [
    "#### cross_val_score() usig K-fold-cross-validation \n",
    "#### what does it mean k-fold:\n",
    "#### mean splitting the training set into K fold"
   ]
  },
  {
   "cell_type": "code",
   "execution_count": 4,
   "metadata": {},
   "outputs": [],
   "source": [
    "from sklearn.model_selection import cross_val_score\n",
    "# let's explain how use it put your model, x_train, y_train and choose cv\n",
    "# id select cv = 5 your output is 5 different value\n",
    "# split x-train into 5 part and in each way use 4 of model and evaluate with another one and continue \n",
    "# to be finish \n",
    "#cross_val_score(model, x_train, y_train, cv=k-fold, scoring='accuracy')"
   ]
  },
  {
   "cell_type": "markdown",
   "metadata": {},
   "source": [
    "##### A Much Better Way To Evaluate The Performance Of a Classifier Is To Look At The Confusion-Matrix"
   ]
  },
  {
   "cell_type": "markdown",
   "metadata": {},
   "source": [
    "###### For Use Confusion-Matrix We Need Prediction As Last Cell Use :\n",
    "from sklean.model_selection import cross_val_predict"
   ]
  },
  {
   "cell_type": "code",
   "execution_count": 10,
   "metadata": {},
   "outputs": [],
   "source": [
    "from sklearn.model_selection import cross_val_predict\n",
    "from sklearn.metrics import confusion_matrix\n",
    "#y_train_predict = cross_val_predict(model, x_train, y_train, cv=k-fold)\n",
    "# confucion_matrix(y_train, y_train_predict)"
   ]
  },
  {
   "cell_type": "markdown",
   "metadata": {},
   "source": [
    "##### out_put : each row in confucion matrix represent an actual class, while each column represent predicted class"
   ]
  },
  {
   "cell_type": "markdown",
   "metadata": {},
   "source": [
    "### What Does It Mean:\n",
    "##### Tp: True Positive ==> Mean model predict positive and it's true\n",
    "##### Tn: True Negative ==> Mean Model Predict negative And it's True\n",
    "##### Fp: False Posiitive ==> Mean Model Predict Positive And It's False \n",
    "##### Fn: False Negative ==> Mean Model Predict Negative And It's False"
   ]
  },
  {
   "cell_type": "markdown",
   "metadata": {},
   "source": [
    "###### A Good Classifier Has Only Tp, Tn \n",
    "###### perecision = Tp / Tp + Fp\n",
    "###### recall = Tn / Tp + Fn\n",
    "###### It Has some TradeOff Between Them More precision low recall and vice-verca\n",
    "###### (perecison * recall / perecison / recall ) * 2 ==> F1-SCORE"
   ]
  },
  {
   "cell_type": "code",
   "execution_count": 11,
   "metadata": {},
   "outputs": [],
   "source": [
    "from sklearn.metrics import precision_score, recall_score, f1_score"
   ]
  },
  {
   "cell_type": "markdown",
   "metadata": {},
   "source": [
    "#### How Use Theme:\n",
    "##### perecison_score(y_train, y_train_predict)\n",
    "##### IF YOU NEED SIMPLE WAY TO COMPARE TWO CLASSIFIER USE F1-SCORE"
   ]
  },
  {
   "cell_type": "markdown",
   "metadata": {},
   "source": [
    "#### Waht is Decision-Function : [Logestic-regression, SVM, SGD]\n",
    "##### returns a score foe each instance "
   ]
  },
  {
   "cell_type": "code",
   "execution_count": 12,
   "metadata": {},
   "outputs": [],
   "source": [
    "#score = cross_val_score(model, x_train, y_train, cv=k-fold, scoring='decision-function')"
   ]
  },
  {
   "cell_type": "markdown",
   "metadata": {},
   "source": [
    "### how plot precison_recall_curve():\n",
    "##### from sklearn.metrics import precison_recall_curve\n",
    "###### precison, recall, threshhold = precisionre_call_curve(y_train, score) score==> last cell "
   ]
  },
  {
   "cell_type": "markdown",
   "metadata": {},
   "source": [
    "### Receiver Operation Characteristic (ROC)"
   ]
  },
  {
   "cell_type": "markdown",
   "metadata": {},
   "source": [
    "#### It's Very Similar to precisin/recall curve but instead of ploting precision versus recall, the roc plots the true positive rate against the false positive rate\n",
    "### WHO USE IT?"
   ]
  },
  {
   "cell_type": "markdown",
   "metadata": {},
   "source": [
    "#### from sklearn.metrics import roc_curve\n",
    "#### fpr, tpr, thresholds = roc_curve(y_train, score)"
   ]
  },
  {
   "cell_type": "markdown",
   "metadata": {},
   "source": [
    "#### A Good Classifier stays as far away from that  line as possible\n",
    "#### For Compare Two Model If Some Model Has More AUC It's Better Than The Other "
   ]
  },
  {
   "cell_type": "markdown",
   "metadata": {},
   "source": [
    "#### Now That's Important question WhichOne use it ? \n",
    "#### prefer pr curve whenever the positive class is rare or when care more about the false positive than false negatives."
   ]
  },
  {
   "cell_type": "markdown",
   "metadata": {},
   "source": [
    "### MultiClass Classification:\n",
    "* some algorithm like ( SGD, Random Forest, Naive Bayes) are capable of handling multiple classes natively\n",
    "* Logestic Regression, Support Vector Machine are strictly BINARY classifier \n",
    "### What is OVO & OVA ?\n",
    "####                one way to creat a system that can classifie the digit image into 10 class is to train 10 binary classifier this is called OVA  (one-versus-all)\n",
    "####                another strategy is to train a binary classifier for evert pair of digits:one for 0 & 1, 1 & 2, ....\n",
    "#### maybe feel it's as same as last one but OVA means ( 0 or not )  ( 1 or not )"
   ]
  },
  {
   "cell_type": "code",
   "execution_count": null,
   "metadata": {},
   "outputs": [],
   "source": []
  }
 ],
 "metadata": {
  "kernelspec": {
   "display_name": "Python 3",
   "language": "python",
   "name": "python3"
  },
  "language_info": {
   "codemirror_mode": {
    "name": "ipython",
    "version": 3
   },
   "file_extension": ".py",
   "mimetype": "text/x-python",
   "name": "python",
   "nbconvert_exporter": "python",
   "pygments_lexer": "ipython3",
   "version": "3.8.5"
  }
 },
 "nbformat": 4,
 "nbformat_minor": 4
}
