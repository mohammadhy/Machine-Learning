{
 "cells": [
  {
   "cell_type": "markdown",
   "metadata": {},
   "source": [
    "## Linear Regression With Normal Equation:"
   ]
  },
  {
   "cell_type": "markdown",
   "metadata": {},
   "source": [
    "### to find value of theta that minimize the cost function there is a closed-form solution :"
   ]
  },
  {
   "cell_type": "markdown",
   "metadata": {},
   "source": [
    "### this is formula of normal equation --> np.linalg.inv(X_b.T.dot(X_b)).dot(X_b.T).dot(y) "
   ]
  },
  {
   "cell_type": "code",
   "execution_count": 1,
   "metadata": {},
   "outputs": [
    {
     "data": {
      "image/png": "[encoded data removed]",
      "text/plain": [
       "<Figure size 432x288 with 1 Axes>"
      ]
     },
     "metadata": {
      "needs_background": "light"
     },
     "output_type": "display_data"
    }
   ],
   "source": [
    "import numpy as np\n",
    "import matplotlib.pyplot as plt\n",
    "x = 2 * np.random.rand(100, 1)\n",
    "y = 4 + 3 * x + np.random.randn(100, 1)\n",
    "plt.plot(x, y, \"b.\")\n",
    "plt.xlabel(\"$x_1$\", fontsize=18)\n",
    "plt.ylabel(\"$y$\", rotation=0, fontsize=18)\n",
    "plt.axis([0, 2, 0, 15])\n",
    "plt.show()"
   ]
  },
  {
   "cell_type": "code",
   "execution_count": 2,
   "metadata": {},
   "outputs": [
    {
     "data": {
      "text/plain": [
       "(array([4.11598362]), array([[2.82096402]]))"
      ]
     },
     "execution_count": 2,
     "metadata": {},
     "output_type": "execute_result"
    }
   ],
   "source": [
    "from sklearn.linear_model import LinearRegression\n",
    "\n",
    "lin_reg = LinearRegression()\n",
    "lin_reg.fit(x, y)\n",
    "lin_reg.intercept_, lin_reg.coef_"
   ]
  },
  {
   "cell_type": "markdown",
   "metadata": {},
   "source": [
    "## Linear Regression Using Batch Gradient Descent:"
   ]
  },
  {
   "cell_type": "markdown",
   "metadata": {},
   "source": [
    "### Gradient Decent is a generic optimization algorithm capable of finding optimal solutions to a wide range of problems.\n",
    "### the general idea minimize the cost function.\n",
    "### gradient decent has an important parameter size of step or learning rate if the learning rate to small then the algorithm reach the global minimum but will take long time, although if the learning rate is to high, maybe you jump accross the global minimum and far from point\n",
    "### when you want to use gradient decent you should ensure all feaature in same scale \n"
   ]
  },
  {
   "cell_type": "markdown",
   "metadata": {},
   "source": [
    "## Batch Gradient :\n",
    "### it use the whole batch of training data at every step as a result it is terribly slow down on very large training sets\n",
    "###    gradients = 2/m * X_b.T.dot(X_b.dot(theta) - y)\n",
    "### to find good learning rate you can use grid search \n"
   ]
  },
  {
   "cell_type": "markdown",
   "metadata": {},
   "source": [
    "## Stochastic Gradient Decent:\n",
    "### the main problem of batch is use whole trainig set to compute the gradient decent the opposite site is stochastic gradient decent picks a random instances in the training set at every step and compute gradient only on that single instance.\n",
    "### on the other hand , stochastic much regular than batch and instead of decreasing until it reach the minimum, the cost function will become up and down , decreasing only the average\n",
    "### to perform Linear Regression using SGD use SGDRegressor "
   ]
  },
  {
   "cell_type": "code",
   "execution_count": 3,
   "metadata": {},
   "outputs": [
    {
     "name": "stderr",
     "output_type": "stream",
     "text": [
      "/home/hassan/.local/lib/python3.8/site-packages/sklearn/utils/validation.py:72: DataConversionWarning: A column-vector y was passed when a 1d array was expected. Please change the shape of y to (n_samples, ), for example using ravel().\n",
      "  return f(**kwargs)\n"
     ]
    },
    {
     "data": {
      "text/plain": [
       "(array([4.08746485]), array([2.81915369]))"
      ]
     },
     "execution_count": 3,
     "metadata": {},
     "output_type": "execute_result"
    }
   ],
   "source": [
    "from sklearn.linear_model import SGDRegressor\n",
    "sgd_reg = SGDRegressor(max_iter=1000, penalty=None, eta0=0.1\n",
    "                      )\n",
    "sgd_reg.fit(x, y)\n",
    "sgd_reg.intercept_, sgd_reg.coef_"
   ]
  },
  {
   "cell_type": "markdown",
   "metadata": {},
   "source": [
    "## Mini-Batch-Gradient Decent:\n",
    "### compute the gradient on small random sets of instances \n"
   ]
  },
  {
   "cell_type": "markdown",
   "metadata": {},
   "source": [
    "## Polynomial Regression:\n",
    "### what if our data is more complex than a line we should use polynomial to fit the data that not linearly"
   ]
  },
  {
   "cell_type": "code",
   "execution_count": 4,
   "metadata": {},
   "outputs": [
    {
     "data": {
      "text/plain": [
       "array([[-1.1146104 ],\n",
       "       [-2.33336398],\n",
       "       [ 1.61390906],\n",
       "       [ 1.11945225],\n",
       "       [-2.69433589],\n",
       "       [ 1.72453647],\n",
       "       [ 2.044805  ],\n",
       "       [-0.15805533],\n",
       "       [-1.31035343],\n",
       "       [-1.37822018],\n",
       "       [-0.03942275],\n",
       "       [-0.34320346],\n",
       "       [ 1.95521522],\n",
       "       [ 2.42657333],\n",
       "       [ 2.32528296],\n",
       "       [-0.78254126],\n",
       "       [-2.55394281],\n",
       "       [ 0.76566306],\n",
       "       [ 2.19100521],\n",
       "       [ 1.56339046],\n",
       "       [ 1.65960284],\n",
       "       [-0.31141409],\n",
       "       [ 2.19691177],\n",
       "       [ 0.56595968],\n",
       "       [-1.73381502],\n",
       "       [-1.12184111],\n",
       "       [-2.09429741],\n",
       "       [-2.17255465],\n",
       "       [-0.83484109],\n",
       "       [ 2.70178076],\n",
       "       [-1.19091228],\n",
       "       [-2.21095432],\n",
       "       [ 1.15981468],\n",
       "       [-2.04494107],\n",
       "       [ 1.93954688],\n",
       "       [ 1.54994224],\n",
       "       [-1.61430737],\n",
       "       [ 0.39398104],\n",
       "       [-2.04892967],\n",
       "       [-0.04330574],\n",
       "       [ 2.39511959],\n",
       "       [ 2.88953033],\n",
       "       [ 2.25705831],\n",
       "       [ 2.10638345],\n",
       "       [-0.69527448],\n",
       "       [-2.85925457],\n",
       "       [-1.58474904],\n",
       "       [-2.70260496],\n",
       "       [ 1.28506153],\n",
       "       [-1.64614297],\n",
       "       [ 1.53807965],\n",
       "       [-1.11315689],\n",
       "       [-0.18103601],\n",
       "       [-2.82107555],\n",
       "       [-2.10021076],\n",
       "       [-2.42837054],\n",
       "       [-2.61420189],\n",
       "       [ 2.45975477],\n",
       "       [ 0.72982824],\n",
       "       [-0.84279192],\n",
       "       [ 1.83854241],\n",
       "       [-2.87235802],\n",
       "       [-0.28482705],\n",
       "       [ 0.26496441],\n",
       "       [-0.18298714],\n",
       "       [-1.31942498],\n",
       "       [ 0.07941919],\n",
       "       [ 1.99421425],\n",
       "       [ 0.68585932],\n",
       "       [ 2.97488288],\n",
       "       [-1.74663949],\n",
       "       [-1.98662862],\n",
       "       [ 0.70034913],\n",
       "       [ 2.57193848],\n",
       "       [ 2.3191041 ],\n",
       "       [-0.60148797],\n",
       "       [ 1.29834633],\n",
       "       [-0.63209823],\n",
       "       [ 2.62495308],\n",
       "       [-2.40053551],\n",
       "       [ 2.74672629],\n",
       "       [-2.4043369 ],\n",
       "       [-2.60101825],\n",
       "       [-0.26898737],\n",
       "       [ 1.42983939],\n",
       "       [ 2.05068629],\n",
       "       [ 1.22801841],\n",
       "       [ 2.24548339],\n",
       "       [ 1.65045398],\n",
       "       [ 1.73914277],\n",
       "       [-2.13548989],\n",
       "       [ 1.22927526],\n",
       "       [-0.07319612],\n",
       "       [ 2.74453683],\n",
       "       [ 2.86258093],\n",
       "       [-2.53357456],\n",
       "       [ 1.34520236],\n",
       "       [ 0.28289867],\n",
       "       [-2.55370746],\n",
       "       [-0.84765793]])"
      ]
     },
     "execution_count": 4,
     "metadata": {},
     "output_type": "execute_result"
    }
   ],
   "source": [
    "m = 100\n",
    "x = 6 * np.random.rand(m, 1) - 3\n",
    "y = 0.5 * x ** 2 +x+ 2 + np.random.randn(m, 1)\n",
    "x"
   ]
  },
  {
   "cell_type": "code",
   "execution_count": 5,
   "metadata": {},
   "outputs": [
    {
     "data": {
      "image/png": "[encoded data removed]",
      "text/plain": [
       "<Figure size 432x288 with 1 Axes>"
      ]
     },
     "metadata": {
      "needs_background": "light"
     },
     "output_type": "display_data"
    }
   ],
   "source": [
    "plt.plot(x, y, 'g.')\n",
    "plt.show()"
   ]
  },
  {
   "cell_type": "code",
   "execution_count": 12,
   "metadata": {},
   "outputs": [
    {
     "data": {
      "text/plain": [
       "array([[-1.11461040e+00,  1.24235634e+00, -1.38474330e+00,\n",
       "         1.54344928e+00, -1.72034462e+00],\n",
       "       [-2.33336398e+00,  5.44458746e+00, -1.27042043e+01,\n",
       "         2.96435326e+01, -6.91691512e+01],\n",
       "       [ 1.61390906e+00,  2.60470246e+00,  4.20375289e+00,\n",
       "         6.78447488e+00,  1.09495255e+01],\n",
       "       [ 1.11945225e+00,  1.25317334e+00,  1.40286771e+00,\n",
       "         1.57044341e+00,  1.75803640e+00],\n",
       "       [-2.69433589e+00,  7.25944591e+00, -1.95593857e+01,\n",
       "         5.26995549e+01, -1.41990302e+02],\n",
       "       [ 1.72453647e+00,  2.97402604e+00,  5.12881638e+00,\n",
       "         8.84483091e+00,  1.52532335e+01],\n",
       "       [ 2.04480500e+00,  4.18122747e+00,  8.54979483e+00,\n",
       "         1.74826632e+01,  3.57486370e+01],\n",
       "       [-1.58055335e-01,  2.49814888e-02, -3.94845756e-03,\n",
       "         6.24074781e-04, -9.86383483e-05],\n",
       "       [-1.31035343e+00,  1.71702611e+00, -2.24991106e+00,\n",
       "         2.94817867e+00, -3.86315603e+00],\n",
       "       [-1.37822018e+00,  1.89949087e+00, -2.61791664e+00,\n",
       "         3.60806555e+00, -4.97270875e+00],\n",
       "       [-3.94227473e-02,  1.55415300e-03, -6.12689810e-05,\n",
       "         2.41539156e-06, -9.52213709e-08],\n",
       "       [-3.43203462e-01,  1.17788617e-01, -4.04254610e-02,\n",
       "         1.38741582e-02, -4.76165913e-03],\n",
       "       [ 1.95521522e+00,  3.82286657e+00,  7.47452691e+00,\n",
       "         1.46143088e+01,  2.85741190e+01],\n",
       "       [ 2.42657333e+00,  5.88825812e+00,  1.42882901e+01,\n",
       "         3.46715837e+01,  8.41331402e+01],\n",
       "       [ 2.32528296e+00,  5.40694083e+00,  1.25726674e+01,\n",
       "         2.92350092e+01,  6.79796686e+01],\n",
       "       [-7.82541262e-01,  6.12370827e-01, -4.79205440e-01,\n",
       "         3.74998030e-01, -2.93451432e-01],\n",
       "       [-2.55394281e+00,  6.52262386e+00, -1.66584083e+01,\n",
       "         4.25446220e+01, -1.08656531e+02],\n",
       "       [ 7.65663055e-01,  5.86239914e-01,  4.48862244e-01,\n",
       "         3.43677237e-01,  2.63140963e-01],\n",
       "       [ 2.19100521e+00,  4.80050384e+00,  1.05179289e+01,\n",
       "         2.30448371e+01,  5.04913583e+01],\n",
       "       [ 1.56339046e+00,  2.44418973e+00,  3.82122291e+00,\n",
       "         5.97406344e+00,  9.33979379e+00],\n",
       "       [ 1.65960284e+00,  2.75428159e+00,  4.57101355e+00,\n",
       "         7.58606708e+00,  1.25898585e+01],\n",
       "       [-3.11414088e-01,  9.69787344e-02, -3.02005442e-02,\n",
       "         9.40487493e-03, -2.92881055e-03],\n",
       "       [ 2.19691177e+00,  4.82642130e+00,  1.06032217e+01,\n",
       "         2.32943426e+01,  5.11756153e+01],\n",
       "       [ 5.65959683e-01,  3.20310363e-01,  1.81282751e-01,\n",
       "         1.02598729e-01,  5.80667439e-02],\n",
       "       [-1.73381502e+00,  3.00611451e+00, -5.21204649e+00,\n",
       "         9.03672448e+00, -1.56680086e+01],\n",
       "       [-1.12184111e+00,  1.25852749e+00, -1.41186788e+00,\n",
       "         1.58389143e+00, -1.77687453e+00],\n",
       "       [-2.09429741e+00,  4.38608164e+00, -9.18575941e+00,\n",
       "         1.92377121e+01, -4.02894907e+01],\n",
       "       [-2.17255465e+00,  4.71999371e+00, -1.02544443e+01,\n",
       "         2.22783406e+01, -4.84009124e+01],\n",
       "       [-8.34841093e-01,  6.96959651e-01, -5.81850557e-01,\n",
       "         4.85752755e-01, -4.05526361e-01],\n",
       "       [ 2.70178076e+00,  7.29961927e+00,  1.97219709e+01,\n",
       "         5.32844414e+01,  1.43962879e+02],\n",
       "       [-1.19091228e+00,  1.41827206e+00, -1.68903762e+00,\n",
       "         2.01149565e+00, -2.39551487e+00],\n",
       "       [-2.21095432e+00,  4.88831902e+00, -1.08078501e+01,\n",
       "         2.38956628e+01, -5.28322190e+01],\n",
       "       [ 1.15981468e+00,  1.34517010e+00,  1.56014804e+00,\n",
       "         1.80948261e+00,  2.09866450e+00],\n",
       "       [-2.04494107e+00,  4.18178399e+00, -8.55150183e+00,\n",
       "         1.74873173e+01, -3.57605334e+01],\n",
       "       [ 1.93954688e+00,  3.76184210e+00,  7.29626910e+00,\n",
       "         1.41514560e+01,  2.74474122e+01],\n",
       "       [ 1.54994224e+00,  2.40232095e+00,  3.72345873e+00,\n",
       "         5.77114597e+00,  8.94494292e+00],\n",
       "       [-1.61430737e+00,  2.60598830e+00, -4.20686613e+00,\n",
       "         6.79117502e+00, -1.09630439e+01],\n",
       "       [ 3.93981042e-01,  1.55221062e-01,  6.11541556e-02,\n",
       "         2.40935779e-02,  9.49241294e-03],\n",
       "       [-2.04892967e+00,  4.19811278e+00, -8.60163783e+00,\n",
       "         1.76241509e+01, -3.61106458e+01],\n",
       "       [-4.33057363e-02,  1.87538680e-03, -8.12150061e-05,\n",
       "         3.51707564e-06, -1.52309550e-07],\n",
       "       [ 2.39511959e+00,  5.73659787e+00,  1.37398379e+01,\n",
       "         3.29085551e+01,  7.88199251e+01],\n",
       "       [ 2.88953033e+00,  8.34938550e+00,  2.41258026e+01,\n",
       "         6.97122382e+01,  2.01435626e+02],\n",
       "       [ 2.25705831e+00,  5.09431221e+00,  1.14981597e+01,\n",
       "         2.59520169e+01,  5.85752154e+01],\n",
       "       [ 2.10638345e+00,  4.43685125e+00,  9.34571005e+00,\n",
       "         1.96856490e+01,  4.14655253e+01],\n",
       "       [-6.95274476e-01,  4.83406597e-01, -3.36100268e-01,\n",
       "         2.33681938e-01, -1.62473087e-01],\n",
       "       [-2.85925457e+00,  8.17533672e+00, -2.33753689e+01,\n",
       "         6.68361305e+01, -1.91101512e+02],\n",
       "       [-1.58474904e+00,  2.51142952e+00, -3.97998551e+00,\n",
       "         6.30727821e+00, -9.99545308e+00],\n",
       "       [-2.70260496e+00,  7.30407355e+00, -1.97400254e+01,\n",
       "         5.33494905e+01, -1.44182597e+02],\n",
       "       [ 1.28506153e+00,  1.65138314e+00,  2.12212896e+00,\n",
       "         2.72706629e+00,  3.50444799e+00],\n",
       "       [-1.64614297e+00,  2.70978669e+00, -4.46069632e+00,\n",
       "         7.34294391e+00, -1.20875355e+01],\n",
       "       [ 1.53807965e+00,  2.36568902e+00,  3.63861815e+00,\n",
       "         5.59648455e+00,  8.60783901e+00],\n",
       "       [-1.11315689e+00,  1.23911826e+00, -1.37933303e+00,\n",
       "         1.53541406e+00, -1.70915674e+00],\n",
       "       [-1.81036012e-01,  3.27740377e-02, -5.93328108e-03,\n",
       "         1.07413755e-03, -1.94457578e-04],\n",
       "       [-2.82107555e+00,  7.95846724e+00, -2.24514373e+01,\n",
       "         6.33372008e+01, -1.78679028e+02],\n",
       "       [-2.10021076e+00,  4.41088525e+00, -9.26378869e+00,\n",
       "         1.94559087e+01, -4.08615089e+01],\n",
       "       [-2.42837054e+00,  5.89698348e+00, -1.43200609e+01,\n",
       "         3.47744141e+01, -8.44451628e+01],\n",
       "       [-2.61420189e+00,  6.83405151e+00, -1.78655904e+01,\n",
       "         4.67042600e+01, -1.22094365e+02],\n",
       "       [ 2.45975477e+00,  6.05039352e+00,  1.48824843e+01,\n",
       "         3.66072618e+01,  9.00448868e+01],\n",
       "       [ 7.29828235e-01,  5.32649253e-01,  3.88742464e-01,\n",
       "         2.83715227e-01,  2.07063383e-01],\n",
       "       [-8.42791920e-01,  7.10298220e-01, -5.98633600e-01,\n",
       "         5.04523561e-01, -4.25208381e-01],\n",
       "       [ 1.83854241e+00,  3.38023820e+00,  6.21471129e+00,\n",
       "         1.14260103e+01,  2.10072045e+01],\n",
       "       [-2.87235802e+00,  8.25044057e+00, -2.36982191e+01,\n",
       "         6.80697697e+01, -1.95520749e+02],\n",
       "       [-2.84827046e-01,  8.11264463e-02, -2.31070061e-02,\n",
       "         6.58150029e-03, -1.87458929e-03],\n",
       "       [ 2.64964411e-01,  7.02061388e-02,  1.86021282e-02,\n",
       "         4.92890193e-03,  1.30598359e-03],\n",
       "       [-1.82987143e-01,  3.34842944e-02, -6.12719536e-03,\n",
       "         1.12119797e-03, -2.05164813e-04],\n",
       "       [-1.31942498e+00,  1.74088228e+00, -2.29696357e+00,\n",
       "         3.03067112e+00, -3.99874318e+00],\n",
       "       [ 7.94191896e-02,  6.30740768e-03,  5.00929207e-04,\n",
       "         3.97833917e-05,  3.15956473e-06],\n",
       "       [ 1.99421425e+00,  3.97689048e+00,  7.93077169e+00,\n",
       "         1.58156579e+01,  3.15398105e+01],\n",
       "       [ 6.85859315e-01,  4.70403001e-01,  3.22630280e-01,\n",
       "         2.21278983e-01,  1.51766252e-01],\n",
       "       [ 2.97488288e+00,  8.84992812e+00,  2.63274996e+01,\n",
       "         7.83212278e+01,  2.32996479e+02],\n",
       "       [-1.74663949e+00,  3.05074951e+00, -5.32855958e+00,\n",
       "         9.30707259e+00, -1.62561005e+01],\n",
       "       [-1.98662862e+00,  3.94669326e+00, -7.84061378e+00,\n",
       "         1.55763877e+01, -3.09444976e+01],\n",
       "       [ 7.00349127e-01,  4.90488900e-01,  3.43513473e-01,\n",
       "         2.40579361e-01,  1.68489545e-01],\n",
       "       [ 2.57193848e+00,  6.61486756e+00,  1.70130324e+01,\n",
       "         4.37564729e+01,  1.12538956e+02],\n",
       "       [ 2.31910410e+00,  5.37824383e+00,  1.24727073e+01,\n",
       "         2.89255067e+01,  6.70812613e+01],\n",
       "       [-6.01487968e-01,  3.61787776e-01, -2.17610994e-01,\n",
       "         1.30890395e-01, -7.87289974e-02],\n",
       "       [ 1.29834633e+00,  1.68570319e+00,  2.18862655e+00,\n",
       "         2.84159524e+00,  3.68937475e+00],\n",
       "       [-6.32098233e-01,  3.99548177e-01, -2.52553697e-01,\n",
       "         1.59638745e-01, -1.00907369e-01],\n",
       "       [ 2.62495308e+00,  6.89037867e+00,  1.80869207e+01,\n",
       "         4.74773182e+01,  1.24625733e+02],\n",
       "       [-2.40053551e+00,  5.76257071e+00, -1.38332556e+01,\n",
       "         3.32072212e+01, -7.97151136e+01],\n",
       "       [ 2.74672629e+00,  7.54450532e+00,  2.07226911e+01,\n",
       "         5.69195604e+01,  1.56342453e+02],\n",
       "       [-2.40433690e+00,  5.78083592e+00, -1.38990771e+01,\n",
       "         3.34180639e+01, -8.03482841e+01],\n",
       "       [-2.60101825e+00,  6.76529592e+00, -1.75966581e+01,\n",
       "         4.57692289e+01, -1.19046599e+02],\n",
       "       [-2.68987368e-01,  7.23542044e-02, -1.94623670e-02,\n",
       "         5.23513089e-03, -1.40818408e-03],\n",
       "       [ 1.42983939e+00,  2.04444069e+00,  2.92322184e+00,\n",
       "         4.17973775e+00,  5.97635369e+00],\n",
       "       [ 2.05068629e+00,  4.20531427e+00,  8.62378033e+00,\n",
       "         1.76846681e+01,  3.62657065e+01],\n",
       "       [ 1.22801841e+00,  1.50802921e+00,  1.85188764e+00,\n",
       "         2.27415211e+00,  2.79270065e+00],\n",
       "       [ 2.24548339e+00,  5.04219564e+00,  1.13221665e+01,\n",
       "         2.54237368e+01,  5.70885787e+01],\n",
       "       [ 1.65045398e+00,  2.72399834e+00,  4.49583390e+00,\n",
       "         7.42016696e+00,  1.22466441e+01],\n",
       "       [ 1.73914277e+00,  3.02461758e+00,  5.26024181e+00,\n",
       "         9.14831153e+00,  1.59102199e+01],\n",
       "       [-2.13548989e+00,  4.56031709e+00, -9.73851105e+00,\n",
       "         2.07964919e+01, -4.44106983e+01],\n",
       "       [ 1.22927526e+00,  1.51111767e+00,  1.85757957e+00,\n",
       "         2.28347661e+00,  2.80702131e+00],\n",
       "       [-7.31961189e-02,  5.35767182e-03, -3.92160783e-04,\n",
       "         2.87046473e-05, -2.10106877e-06],\n",
       "       [ 2.74453683e+00,  7.53248242e+00,  2.06731754e+01,\n",
       "         5.67382914e+01,  1.55720330e+02],\n",
       "       [ 2.86258093e+00,  8.19436957e+00,  2.34570460e+01,\n",
       "         6.71476926e+01,  1.92215704e+02],\n",
       "       [-2.53357456e+00,  6.41900004e+00, -1.62630152e+01,\n",
       "         4.12035615e+01, -1.04392295e+02],\n",
       "       [ 1.34520236e+00,  1.80956938e+00,  2.43423700e+00,\n",
       "         3.27454135e+00,  4.40492075e+00],\n",
       "       [ 2.82898671e-01,  8.00316581e-02,  2.26408497e-02,\n",
       "         6.40506631e-03,  1.81198475e-03],\n",
       "       [-2.55370746e+00,  6.52142180e+00, -1.66538035e+01,\n",
       "         4.25289423e+01, -1.08606477e+02],\n",
       "       [-8.47657930e-01,  7.18523966e-01, -6.09062538e-01,\n",
       "         5.16276690e-01, -4.37626031e-01]])"
      ]
     },
     "execution_count": 12,
     "metadata": {},
     "output_type": "execute_result"
    }
   ],
   "source": [
    "from sklearn.preprocessing import PolynomialFeatures\n",
    "polynomi = PolynomialFeatures(degree=5, include_bias=False)\n",
    "x_poly = polynomi.fit_transform(x)\n",
    "x_poly\n",
    "# x_poly contain orginal feature of x plus the square of this feature"
   ]
  },
  {
   "cell_type": "code",
   "execution_count": 13,
   "metadata": {},
   "outputs": [
    {
     "data": {
      "text/plain": [
       "LinearRegression()"
      ]
     },
     "execution_count": 13,
     "metadata": {},
     "output_type": "execute_result"
    }
   ],
   "source": [
    "reg = LinearRegression()\n",
    "reg.fit(x_poly, y)"
   ]
  },
  {
   "cell_type": "code",
   "execution_count": 14,
   "metadata": {},
   "outputs": [
    {
     "data": {
      "text/plain": [
       "(array([2.22849011]),\n",
       " array([[ 0.83258597,  0.22174111,  0.07795744,  0.03914473, -0.00974745]]))"
      ]
     },
     "execution_count": 14,
     "metadata": {},
     "output_type": "execute_result"
    }
   ],
   "source": [
    "reg.intercept_,reg.coef_"
   ]
  },
  {
   "cell_type": "code",
   "execution_count": 15,
   "metadata": {},
   "outputs": [
    {
     "data": {
      "image/png": "[encoded data removed]",
      "text/plain": [
       "<Figure size 432x288 with 1 Axes>"
      ]
     },
     "metadata": {
      "needs_background": "light"
     },
     "output_type": "display_data"
    }
   ],
   "source": [
    "x_new=np.linspace(-4, 4, 100).reshape(100, 1)\n",
    "x_new_poly = polynomi.transform(x_new)\n",
    "y_new = reg.predict(x_new_poly)\n",
    "plt.plot(x, y, \"b.\")\n",
    "plt.plot(x_new, y_new, \"r-\", linewidth=2, label=\"Predictions\")\n",
    "plt.xlabel(\"$x_1$\", fontsize=18)\n",
    "plt.ylabel(\"$y$\", rotation=0, fontsize=18)\n",
    "plt.legend(loc=\"upper left\", fontsize=14)\n",
    "plt.axis([-4, 4, 0, 10])\n",
    "plt.show()"
   ]
  },
  {
   "cell_type": "markdown",
   "metadata": {},
   "source": [
    "## To See Which Degree Is Better:"
   ]
  },
  {
   "cell_type": "code",
   "execution_count": 10,
   "metadata": {},
   "outputs": [],
   "source": [
    "from sklearn.model_selection import GridSearchCV\n",
    "from sklearn.model_selection import cross_val_score \n",
    "best_score = 0\n",
    "best_degree = 0\n",
    "\n",
    "degree = [2,3,4,5,6,7,8,9,10]\n",
    "for dg in degree:\n",
    "    polynomi = PolynomialFeatures(degree=dg)\n",
    "    x_p = polynomi.fit_transform(x)\n",
    "    polynomial_regressor = LinearRegression()\n",
    "    polynomial_regressor.fit(x_p, y)\n",
    "    scores = cross_val_score(polynomial_regressor, x_p, y, cv=5) # Change k-fold cv value here\n",
    "    if max(scores) > best_score:\n",
    "        best_score= max(scores)\n",
    "        best_degree = dg\n"
   ]
  },
  {
   "cell_type": "code",
   "execution_count": 11,
   "metadata": {},
   "outputs": [
    {
     "data": {
      "text/plain": [
       "5"
      ]
     },
     "execution_count": 11,
     "metadata": {},
     "output_type": "execute_result"
    }
   ],
   "source": [
    "best_degree"
   ]
  },
  {
   "cell_type": "markdown",
   "metadata": {},
   "source": [
    "### if you perform high-degree polynomial regression you will likely fit the training data much better than with plain linear regression \n",
    "### TIP : pay attention if use high-degree overfiting occure while the linear model is underfiting \n"
   ]
  },
  {
   "cell_type": "markdown",
   "metadata": {},
   "source": [
    "## How Underestand Model Is Overfit Or Underfit ?"
   ]
  },
  {
   "cell_type": "markdown",
   "metadata": {},
   "source": [
    "### first way : we can use cross-validation to get an estimate of model's generalizaion performance, if our model performs well on training data but generalize poorly according to the cross-validation metrics,then model is overfiting, if performs poorly on both then this model is underfiting\n"
   ]
  },
  {
   "cell_type": "markdown",
   "metadata": {},
   "source": [
    "### second way: look at the learning curves : these are plots od model's performance on training set"
   ]
  },
  {
   "cell_type": "markdown",
   "metadata": {},
   "source": [
    "## if your model underfiting adding more example will not help you you need more complex model or come up better feature "
   ]
  },
  {
   "cell_type": "markdown",
   "metadata": {},
   "source": [
    "### Ridge is good as default ,but if you suspect than only few feature are useful, you shoud prefer lasso or elastic because they tend to reduce the usless features'weights down to zero, in general elastics prefer over lasso because lasso may behave errativally when number of fetures is greater than the number of instance\n",
    "### elastic net --> middle ground between lasso and ridge the regularization by R when R=0 in ridge and when R=1 lasoo\n",
    "### from sklearn.linear_model import Lasso, ElasticNet, Ridge\n",
    "### Ridge(alpha=1, solver='cholesky')\n",
    "### Lasso(alpha=0.1)\n",
    "### ElasticNet(alpha=0.1, l1_ratio=0.5) it's better to close to 1"
   ]
  }
 ],
 "metadata": {
  "kernelspec": {
   "display_name": "Python 3",
   "language": "python",
   "name": "python3"
  },
  "language_info": {
   "codemirror_mode": {
    "name": "ipython",
    "version": 3
   },
   "file_extension": ".py",
   "mimetype": "text/x-python",
   "name": "python",
   "nbconvert_exporter": "python",
   "pygments_lexer": "ipython3",
   "version": "3.8.5"
  }
 },
 "nbformat": 4,
 "nbformat_minor": 4
}
