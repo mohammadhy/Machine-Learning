{
 "cells": [
  {
   "cell_type": "markdown",
   "metadata": {},
   "source": [
    "## Linear Regression With Normal Equation:\n",
    "### We Use Linear Regression For Predict Value That is Continusely"
   ]
  },
  {
   "cell_type": "markdown",
   "metadata": {},
   "source": [
    "### to find value of theta that minimize the cost function there is a closed-form solution :"
   ]
  },
  {
   "cell_type": "markdown",
   "metadata": {},
   "source": [
    "### this is formula of normal equation --> np.linalg.inv(X_b.T.dot(X_b)).dot(X_b.T).dot(y) "
   ]
  },
  {
   "cell_type": "code",
   "execution_count": 1,
   "metadata": {},
   "outputs": [
    {
     "data": {
      "image/png": "[encoded data removed]",
      "text/plain": [
       "<Figure size 432x288 with 1 Axes>"
      ]
     },
     "metadata": {
      "needs_background": "light"
     },
     "output_type": "display_data"
    }
   ],
   "source": [
    "import numpy as np\n",
    "import matplotlib.pyplot as plt\n",
    "x = 2 * np.random.rand(100, 1)\n",
    "y = 4 + 3 * x + np.random.randn(100, 1)\n",
    "plt.plot(x, y, \"b.\")\n",
    "plt.xlabel(\"$x_1$\", fontsize=18)\n",
    "plt.ylabel(\"$y$\", rotation=0, fontsize=18)\n",
    "plt.axis([0, 2, 0, 15])\n",
    "plt.show()"
   ]
  },
  {
   "cell_type": "code",
   "execution_count": 2,
   "metadata": {},
   "outputs": [
    {
     "data": {
      "text/plain": [
       "(array([4.19305494]), array([[2.64842654]]))"
      ]
     },
     "execution_count": 2,
     "metadata": {},
     "output_type": "execute_result"
    }
   ],
   "source": [
    "from sklearn.linear_model import LinearRegression\n",
    "\n",
    "lin_reg = LinearRegression()\n",
    "lin_reg.fit(x, y)\n",
    "lin_reg.intercept_, lin_reg.coef_"
   ]
  },
  {
   "cell_type": "markdown",
   "metadata": {},
   "source": [
    "## Linear Regression Using Batch Gradient Descent:"
   ]
  },
  {
   "cell_type": "markdown",
   "metadata": {},
   "source": [
    "### Gradient Decent is a generic optimization algorithm capable of finding optimal solutions to a wide range of problems.\n",
    "### the general idea minimize the cost function.\n",
    "### gradient decent has an important parameter size of step or learning rate if the learning rate to small then the algorithm reach the global minimum but will take long time, although if the learning rate is to high, maybe you jump accross the global minimum and far from point\n",
    "### when you want to use gradient decent you should ensure all feaature in same scale \n"
   ]
  },
  {
   "cell_type": "markdown",
   "metadata": {},
   "source": [
    "## Batch Gradient :\n",
    "### it use the whole batch of training data at every step as a result it is terribly slow down on very large training sets\n",
    "###    gradients = 2/m * X_b.T.dot(X_b.dot(theta) - y)\n",
    "### to find good learning rate you can use grid search \n"
   ]
  },
  {
   "cell_type": "markdown",
   "metadata": {},
   "source": [
    "## Stochastic Gradient Decent:\n",
    "### the main problem of batch is use whole trainig set to compute the gradient decent the opposite site is stochastic gradient decent picks a random instances in the training set at every step and compute gradient only on that single instance.\n",
    "### on the other hand , stochastic much regular than batch and instead of decreasing until it reach the minimum, the cost function will become up and down , decreasing only the average\n",
    "### to perform Linear Regression using SGD use SGDRegressor "
   ]
  },
  {
   "cell_type": "code",
   "execution_count": 3,
   "metadata": {},
   "outputs": [
    {
     "name": "stderr",
     "output_type": "stream",
     "text": [
      "C:\\Users\\Pishtaz\\anaconda3\\envs\\tf\\lib\\site-packages\\sklearn\\utils\\validation.py:72: DataConversionWarning: A column-vector y was passed when a 1d array was expected. Please change the shape of y to (n_samples, ), for example using ravel().\n",
      "  return f(**kwargs)\n"
     ]
    },
    {
     "data": {
      "text/plain": [
       "(array([4.22842937]), array([2.71335474]))"
      ]
     },
     "execution_count": 3,
     "metadata": {},
     "output_type": "execute_result"
    }
   ],
   "source": [
    "from sklearn.linear_model import SGDRegressor\n",
    "sgd_reg = SGDRegressor(max_iter=1000, penalty=None, eta0=0.1\n",
    "                      )\n",
    "sgd_reg.fit(x, y)\n",
    "sgd_reg.intercept_, sgd_reg.coef_"
   ]
  },
  {
   "cell_type": "markdown",
   "metadata": {},
   "source": [
    "## Mini-Batch-Gradient Decent:\n",
    "### compute the gradient on small random sets of instances \n",
    "### coparison of algorithms for Linear Regression:\n",
    "### algorithm ------large m ------- out_of_core_support-----scaling reequired\n",
    "#### SVD--------------------------------                fast ----------------------------No -------------------------- No\n",
    "#### Batch Gd ------------------- slow---------------------------no------------------------------------------------------------yes\n",
    "#### SGD ------------------------- fast ------------------------------ yes ------------------------------------------ yes \n",
    "#### Mini Batch -------------------------- fast ---------------------------------- yes------------------------------ yes"
   ]
  },
  {
   "cell_type": "markdown",
   "metadata": {},
   "source": [
    "##### all algorithms they end up near the minum, but batch GD stop actually at minimum, while both SGD and Mini Batch continue to walk around   but don't forgot GD is slower than SGD and Mini Batch "
   ]
  },
  {
   "cell_type": "markdown",
   "metadata": {},
   "source": [
    "## Polynomial Regression:\n",
    "### what if our data is more complex than a line we should use polynomial to fit the data that not linearly"
   ]
  },
  {
   "cell_type": "code",
   "execution_count": 12,
   "metadata": {},
   "outputs": [],
   "source": [
    "m = 100\n",
    "x = 6 * np.random.rand(m, 1) - 3\n",
    "y = 0.5 * x ** 2 +x+ 2 + np.random.randn(m, 1)"
   ]
  },
  {
   "cell_type": "code",
   "execution_count": 5,
   "metadata": {},
   "outputs": [
    {
     "data": {
      "image/png": "[encoded data removed]",
      "text/plain": [
       "<Figure size 432x288 with 1 Axes>"
      ]
     },
     "metadata": {
      "needs_background": "light"
     },
     "output_type": "display_data"
    }
   ],
   "source": [
    "plt.plot(x, y, 'g.')\n",
    "plt.show()"
   ]
  },
  {
   "cell_type": "code",
   "execution_count": 6,
   "metadata": {},
   "outputs": [
    {
     "data": {
      "text/plain": [
       "array([[ 1.54789696e+00,  2.39598501e+00,  3.70873792e+00,\n",
       "         5.74074416e+00,  8.88608046e+00],\n",
       "       [-2.21731143e+00,  4.91646998e+00, -1.09013451e+01,\n",
       "         2.41716770e+01, -5.35961358e+01],\n",
       "       [-2.01490898e+00,  4.05985820e+00, -8.18024474e+00,\n",
       "         1.64824486e+01, -3.32106336e+01],\n",
       "       [-1.14988266e+00,  1.32223014e+00, -1.52040951e+00,\n",
       "         1.74829254e+00, -2.01033128e+00],\n",
       "       [ 1.11117692e+00,  1.23471416e+00,  1.37198588e+00,\n",
       "         1.52451905e+00,  1.69401039e+00],\n",
       "       [ 8.52271469e-01,  7.26366657e-01,  6.19061578e-01,\n",
       "         5.27608521e-01,  4.49665689e-01],\n",
       "       [-7.64779502e-01,  5.84887687e-01, -4.47310114e-01,\n",
       "         3.42093606e-01, -2.61626178e-01],\n",
       "       [ 2.27359005e+00,  5.16921172e+00,  1.17526683e+01,\n",
       "         2.67207498e+01,  6.07520310e+01],\n",
       "       [ 1.96185565e+00,  3.84887757e+00,  7.55094220e+00,\n",
       "         1.48138586e+01,  2.90626521e+01],\n",
       "       [-1.66326867e+00,  2.76646267e+00, -4.60137069e+00,\n",
       "         7.65331571e+00, -1.27295203e+01],\n",
       "       [-2.03496294e+00,  4.14107417e+00, -8.42693247e+00,\n",
       "         1.71484953e+01, -3.48965524e+01],\n",
       "       [-2.84827716e+00,  8.11268277e+00, -2.31071690e+01,\n",
       "         6.58156217e+01, -1.87461132e+02],\n",
       "       [-2.00036372e+00,  4.00145503e+00, -8.00436548e+00,\n",
       "         1.60116423e+01, -3.20291085e+01],\n",
       "       [-1.88714902e+00,  3.56133141e+00, -6.72076307e+00,\n",
       "         1.26830814e+01, -2.39348646e+01],\n",
       "       [-2.28916947e+00,  5.24029685e+00, -1.19959276e+01,\n",
       "         2.74607111e+01, -6.28622215e+01],\n",
       "       [ 1.37935579e+00,  1.90262240e+00,  2.62439323e+00,\n",
       "         3.61997201e+00,  4.99322936e+00],\n",
       "       [ 6.32702834e-02,  4.00312876e-03,  2.53279092e-04,\n",
       "         1.60250399e-05,  1.01390882e-06],\n",
       "       [-3.81065843e-01,  1.45211177e-01, -5.53350195e-02,\n",
       "         2.10862859e-02, -8.03526330e-03],\n",
       "       [ 1.42460301e+00,  2.02949373e+00,  2.89122288e+00,\n",
       "         4.11884481e+00,  5.86771870e+00],\n",
       "       [-8.59028582e-01,  7.37930105e-01, -6.33903051e-01,\n",
       "         5.44540839e-01, -4.67776145e-01],\n",
       "       [ 1.30119027e+00,  1.69309612e+00,  2.20304021e+00,\n",
       "         2.86657449e+00,  3.72995883e+00],\n",
       "       [ 9.19779731e-01,  8.45994754e-01,  7.78128828e-01,\n",
       "         7.15707124e-01,  6.58292906e-01],\n",
       "       [ 2.65574227e+00,  7.05296703e+00,  1.87308627e+01,\n",
       "         4.97443439e+01,  1.32108157e+02],\n",
       "       [ 6.23906358e-01,  3.89259143e-01,  2.42861254e-01,\n",
       "         1.51522681e-01,  9.45359637e-02],\n",
       "       [-4.16422668e-01,  1.73407838e-01, -7.22109547e-02,\n",
       "         3.00702784e-02, -1.25219456e-02],\n",
       "       [-2.08274608e+00,  4.33783122e+00, -9.03460095e+00,\n",
       "         1.88167797e+01, -3.91905741e+01],\n",
       "       [-2.57266172e+00,  6.61858834e+00, -1.70273889e+01,\n",
       "         4.38057117e+01, -1.12697278e+02],\n",
       "       [ 1.93041300e+00,  3.72649436e+00,  7.19367316e+00,\n",
       "         1.38867602e+01,  2.68071825e+01],\n",
       "       [-2.02613609e+00,  4.10522744e+00, -8.31774946e+00,\n",
       "         1.68528924e+01, -3.41462534e+01],\n",
       "       [ 2.41049975e+00,  5.81050906e+00,  1.40062307e+01,\n",
       "         3.37620156e+01,  8.13833302e+01],\n",
       "       [-1.28580064e+00,  1.65328329e+00, -2.12579272e+00,\n",
       "         2.73334565e+00, -3.51453760e+00],\n",
       "       [-1.54369255e+00,  2.38298669e+00, -3.67859879e+00,\n",
       "         5.67862555e+00, -8.76605195e+00],\n",
       "       [ 2.67142943e+00,  7.13653517e+00,  1.90647501e+01,\n",
       "         5.09301343e+01,  1.36056259e+02],\n",
       "       [ 4.59874771e-01,  2.11484805e-01,  9.72565260e-02,\n",
       "         4.47258226e-02,  2.05682774e-02],\n",
       "       [-4.97387556e-01,  2.47394381e-01, -1.23050886e-01,\n",
       "         6.12039796e-02, -3.04420978e-02],\n",
       "       [ 1.95182428e+00,  3.80961802e+00,  7.43570496e+00,\n",
       "         1.45131895e+01,  2.83271956e+01],\n",
       "       [ 2.57677955e+00,  6.63979283e+00,  1.71092824e+01,\n",
       "         4.40868489e+01,  1.13602090e+02],\n",
       "       [ 3.36290416e-01,  1.13091244e-01,  3.80315016e-02,\n",
       "         1.27896295e-02,  4.30102983e-03],\n",
       "       [-3.32213692e-01,  1.10365937e-01, -3.66650755e-02,\n",
       "         1.21806401e-02, -4.04657543e-03],\n",
       "       [-3.33618582e-01,  1.11301358e-01, -3.71322013e-02,\n",
       "         1.23879924e-02, -4.13286445e-03],\n",
       "       [ 2.96368542e+00,  8.78343129e+00,  2.60313273e+01,\n",
       "         7.71486652e+01,  2.28644375e+02],\n",
       "       [-1.38851160e+00,  1.92796445e+00, -2.67700100e+00,\n",
       "         3.71704694e+00, -5.16116278e+00],\n",
       "       [ 2.08918639e+00,  4.36469978e+00,  9.11867138e+00,\n",
       "         1.90506041e+01,  3.98002629e+01],\n",
       "       [ 5.93269854e-01,  3.51969120e-01,  2.08812668e-01,\n",
       "         1.23882261e-01,  7.34956111e-02],\n",
       "       [-7.89160246e-01,  6.22773895e-01, -4.91468400e-01,\n",
       "         3.87847324e-01, -3.06073690e-01],\n",
       "       [-1.98493182e+00,  3.93995431e+00, -7.82054067e+00,\n",
       "         1.55232400e+01, -3.08125729e+01],\n",
       "       [-1.74944824e+00,  3.06056914e+00, -5.35430729e+00,\n",
       "         9.36708347e+00, -1.63872277e+01],\n",
       "       [-1.62599295e-01,  2.64385307e-02, -4.29888644e-03,\n",
       "         6.98995904e-04, -1.13656241e-04],\n",
       "       [-1.42665698e+00,  2.03535013e+00, -2.90374647e+00,\n",
       "         4.14265016e+00, -5.91014077e+00],\n",
       "       [-2.95003813e+00,  8.70272495e+00, -2.56733704e+01,\n",
       "         7.57374216e+01, -2.23428281e+02],\n",
       "       [ 2.98026035e+00,  8.88195175e+00,  2.64705286e+01,\n",
       "         7.88890669e+01,  2.35109958e+02],\n",
       "       [ 3.94035356e-01,  1.55263862e-01,  6.11794509e-02,\n",
       "         2.41068667e-02,  9.49895780e-03],\n",
       "       [-1.55743831e+00,  2.42561408e+00, -3.77774428e+00,\n",
       "         5.88360366e+00, -9.16334972e+00],\n",
       "       [ 2.70077079e+00,  7.29416288e+00,  1.96998621e+01,\n",
       "         5.32048121e+01,  1.43694003e+02],\n",
       "       [ 2.34928164e+00,  5.51912422e+00,  1.29659772e+01,\n",
       "         3.04607322e+01,  7.15608388e+01],\n",
       "       [ 2.11420104e+00,  4.46984604e+00,  9.45015315e+00,\n",
       "         1.99795236e+01,  4.22407296e+01],\n",
       "       [-2.63088265e+00,  6.92154349e+00, -1.82097687e+01,\n",
       "         4.79077644e+01, -1.26039706e+02],\n",
       "       [-2.81857509e+00,  7.94436554e+00, -2.23917908e+01,\n",
       "         6.31129438e+01, -1.77888571e+02],\n",
       "       [ 7.67891025e-02,  5.89656626e-03,  4.52792030e-04,\n",
       "         3.47694936e-05,  2.66991821e-06],\n",
       "       [ 2.69646882e+00,  7.27094411e+00,  1.96058741e+01,\n",
       "         5.28666283e+01,  1.42553215e+02],\n",
       "       [-8.47922634e-01,  7.18972793e-01, -6.09633305e-01,\n",
       "         5.16921877e-01, -4.38309760e-01],\n",
       "       [-2.18389030e+00,  4.76937686e+00, -1.04157959e+01,\n",
       "         2.27469556e+01, -4.96768558e+01],\n",
       "       [ 2.26385248e+00,  5.12502804e+00,  1.16023074e+01,\n",
       "         2.62659124e+01,  5.94621508e+01],\n",
       "       [-1.09614129e+00,  1.20152573e+00, -1.31704196e+00,\n",
       "         1.44366407e+00, -1.58245979e+00],\n",
       "       [-1.52265584e+00,  2.31848082e+00, -3.53024837e+00,\n",
       "         5.37535332e+00, -8.18481315e+00],\n",
       "       [ 1.22950523e+00,  1.51168310e+00,  1.85862227e+00,\n",
       "         2.28518579e+00,  2.80964787e+00],\n",
       "       [ 2.60074921e+00,  6.76389645e+00,  1.75911984e+01,\n",
       "         4.57502952e+01,  1.18985044e+02],\n",
       "       [ 4.54925206e-01,  2.06956943e-01,  9.41499299e-02,\n",
       "         4.28311762e-02,  1.94849817e-02],\n",
       "       [ 1.03273059e-01,  1.06653247e-02,  1.10144070e-03,\n",
       "         1.13749151e-04,  1.17472227e-05],\n",
       "       [-3.45073292e-01,  1.19075577e-01, -4.10898012e-02,\n",
       "         1.41789929e-02, -4.89279177e-03],\n",
       "       [ 1.13756080e+00,  1.29404458e+00,  1.47205439e+00,\n",
       "         1.67455138e+00,  1.90490401e+00],\n",
       "       [-1.86678781e+00,  3.48489674e+00, -6.50556276e+00,\n",
       "         1.21445053e+01, -2.26712144e+01],\n",
       "       [-1.37592062e-01,  1.89315755e-02, -2.60483450e-03,\n",
       "         3.58404550e-04, -4.93136209e-05],\n",
       "       [ 2.55367770e+00,  6.52126980e+00,  1.66532213e+01,\n",
       "         4.25269599e+01,  1.08600149e+02],\n",
       "       [ 6.35265793e-01,  4.03562628e-01,  2.56369533e-01,\n",
       "         1.62862795e-01,  1.03461162e-01],\n",
       "       [ 4.04748134e-01,  1.63821052e-01,  6.63062652e-02,\n",
       "         2.68373371e-02,  1.08623621e-02],\n",
       "       [ 2.63846709e+00,  6.96150861e+00,  1.83677114e+01,\n",
       "         4.84626021e+01,  1.27866981e+02],\n",
       "       [ 2.31510840e+00,  5.35972689e+00,  1.24083487e+01,\n",
       "         2.87266724e+01,  6.65053605e+01],\n",
       "       [-1.31117546e+00,  1.71918108e+00, -2.25414803e+00,\n",
       "         2.95558357e+00, -3.87528864e+00],\n",
       "       [-4.75171193e-01,  2.25787662e-01, -1.07287793e-01,\n",
       "         5.09800684e-02, -2.42242599e-02],\n",
       "       [ 1.52676010e+00,  2.33099641e+00,  3.55887232e+00,\n",
       "         5.43354427e+00,  8.29571860e+00],\n",
       "       [-3.47202764e-01,  1.20549759e-01, -4.18552095e-02,\n",
       "         1.45322444e-02, -5.04563542e-03],\n",
       "       [-5.25125653e-01,  2.75756952e-01, -1.44807050e-01,\n",
       "         7.60418965e-02, -3.99315506e-02],\n",
       "       [-4.61213350e-02,  2.12717754e-03, -9.81082681e-05,\n",
       "         4.52488430e-06, -2.08693705e-07],\n",
       "       [ 1.15654911e+00,  1.33760583e+00,  1.54700683e+00,\n",
       "         1.78918936e+00,  2.06928536e+00],\n",
       "       [-2.60004189e+00,  6.76021781e+00, -1.75768495e+01,\n",
       "         4.57005448e+01, -1.18823331e+02],\n",
       "       [-1.42211070e+00,  2.02239886e+00, -2.87607506e+00,\n",
       "         4.09009713e+00, -5.81657092e+00],\n",
       "       [ 5.90029271e-01,  3.48134540e-01,  2.05409569e-01,\n",
       "         1.21197658e-01,  7.15101658e-02],\n",
       "       [-2.39599816e+00,  5.74080719e+00, -1.37549635e+01,\n",
       "         3.29568671e+01, -7.89645930e+01],\n",
       "       [-1.96353237e-01,  3.85545936e-02, -7.57031923e-03,\n",
       "         1.48645668e-03, -2.91870581e-04],\n",
       "       [ 1.62608959e+00,  2.64416735e+00,  4.29965301e+00,\n",
       "         6.99162099e+00,  1.13690021e+01],\n",
       "       [-2.92270807e+00,  8.54222246e+00, -2.49664225e+01,\n",
       "         7.29695645e+01, -2.13268735e+02],\n",
       "       [-3.95586298e-01,  1.56488519e-01, -6.19047141e-02,\n",
       "         2.44886567e-02, -9.68737705e-03],\n",
       "       [ 2.23968003e+00,  5.01616665e+00,  1.12346083e+01,\n",
       "         2.51619278e+01,  5.63546673e+01],\n",
       "       [ 7.61563404e-01,  5.79978819e-01,  4.41690644e-01,\n",
       "         3.36375430e-01,  2.56171218e-01],\n",
       "       [-1.16073943e+00,  1.34731603e+00, -1.56388285e+00,\n",
       "         1.81526050e+00, -2.10704444e+00],\n",
       "       [ 2.26637509e+00,  5.13645605e+00,  1.16411360e+01,\n",
       "         2.63831807e+01,  5.97941835e+01],\n",
       "       [ 2.02111607e+00,  4.08491019e+00,  8.25607764e+00,\n",
       "         1.66864912e+01,  3.37253356e+01],\n",
       "       [-6.23694769e-01,  3.88995165e-01, -2.42614250e-01,\n",
       "         1.51317239e-01, -9.43757702e-02],\n",
       "       [-9.84469263e-01,  9.69179729e-01, -9.54127653e-01,\n",
       "         9.39309348e-01, -9.24721181e-01]])"
      ]
     },
     "execution_count": 6,
     "metadata": {},
     "output_type": "execute_result"
    }
   ],
   "source": [
    "from sklearn.preprocessing import PolynomialFeatures\n",
    "polynomi = PolynomialFeatures(degree=5, include_bias=False)\n",
    "x_poly = polynomi.fit_transform(x)\n",
    "x_poly\n",
    "# x_poly contain orginal feature of x plus the square of this feature\n",
    "#### Tip : High Degree Is Tent To Be Overfit , Although the Linear Is Tent To Be Underfiting "
   ]
  },
  {
   "cell_type": "code",
   "execution_count": 7,
   "metadata": {},
   "outputs": [
    {
     "data": {
      "text/plain": [
       "LinearRegression()"
      ]
     },
     "execution_count": 7,
     "metadata": {},
     "output_type": "execute_result"
    }
   ],
   "source": [
    "reg = LinearRegression()\n",
    "reg.fit(x_poly, y)"
   ]
  },
  {
   "cell_type": "code",
   "execution_count": 8,
   "metadata": {},
   "outputs": [
    {
     "data": {
      "text/plain": [
       "(array([1.70649176]),\n",
       " array([[ 8.46873150e-01,  5.61253215e-01,  1.65165355e-03,\n",
       "         -2.01739595e-04,  2.50218902e-03]]))"
      ]
     },
     "execution_count": 8,
     "metadata": {},
     "output_type": "execute_result"
    }
   ],
   "source": [
    "reg.intercept_,reg.coef_"
   ]
  },
  {
   "cell_type": "code",
   "execution_count": 9,
   "metadata": {},
   "outputs": [
    {
     "data": {
      "image/png": "[encoded data removed]",
      "text/plain": [
       "<Figure size 432x288 with 1 Axes>"
      ]
     },
     "metadata": {
      "needs_background": "light"
     },
     "output_type": "display_data"
    }
   ],
   "source": [
    "x_new=np.linspace(-4, 4, 100).reshape(100, 1)\n",
    "x_new_poly = polynomi.transform(x_new)\n",
    "y_new = reg.predict(x_new_poly)\n",
    "plt.plot(x, y, \"b.\")\n",
    "plt.plot(x_new, y_new, \"r-\", linewidth=2, label=\"Predictions\")\n",
    "plt.xlabel(\"$x_1$\", fontsize=18)\n",
    "plt.ylabel(\"$y$\", rotation=0, fontsize=18)\n",
    "plt.legend(loc=\"upper left\", fontsize=14)\n",
    "plt.axis([-4, 4, 0, 10])\n",
    "plt.show()"
   ]
  },
  {
   "cell_type": "markdown",
   "metadata": {},
   "source": [
    "## To See Which Degree Is Better:"
   ]
  },
  {
   "cell_type": "code",
   "execution_count": 10,
   "metadata": {},
   "outputs": [],
   "source": [
    "from sklearn.model_selection import GridSearchCV\n",
    "from sklearn.model_selection import cross_val_score \n",
    "best_score = 0\n",
    "best_degree = 0\n",
    "\n",
    "degree = [2,3,4,5,6,7,8,9,10]\n",
    "for dg in degree:\n",
    "    polynomi = PolynomialFeatures(degree=dg)\n",
    "    x_p = polynomi.fit_transform(x)\n",
    "    polynomial_regressor = LinearRegression()\n",
    "    polynomial_regressor.fit(x_p, y)\n",
    "    scores = cross_val_score(polynomial_regressor, x_p, y, cv=5) # Change k-fold cv value here\n",
    "    if max(scores) > best_score:\n",
    "        best_score= max(scores)\n",
    "        best_degree = dg\n"
   ]
  },
  {
   "cell_type": "code",
   "execution_count": 11,
   "metadata": {},
   "outputs": [
    {
     "data": {
      "text/plain": [
       "3"
      ]
     },
     "execution_count": 11,
     "metadata": {},
     "output_type": "execute_result"
    }
   ],
   "source": [
    "best_degree"
   ]
  },
  {
   "cell_type": "markdown",
   "metadata": {},
   "source": [
    "### if you perform high-degree polynomial regression you will likely fit the training data much better than with plain linear regression \n",
    "### TIP : pay attention if use high-degree overfiting occure while the linear model is underfiting \n"
   ]
  },
  {
   "cell_type": "markdown",
   "metadata": {},
   "source": [
    "## How Underestand Model Is Overfit Or Underfit ?"
   ]
  },
  {
   "cell_type": "markdown",
   "metadata": {},
   "source": [
    "### first way : we can use cross-validation to get an estimate of model's generalizaion performance, if our model performs well on training data but generalize poorly according to the cross-validation metrics,then model is overfiting, if performs poorly on both then this model is underfiting\n"
   ]
  },
  {
   "cell_type": "markdown",
   "metadata": {},
   "source": [
    "### second way: look at the learning curves : these are plots od model's performance on training set"
   ]
  },
  {
   "cell_type": "markdown",
   "metadata": {},
   "source": [
    "## if your model underfiting adding more example will not help you you need more complex model or come up better feature "
   ]
  },
  {
   "cell_type": "markdown",
   "metadata": {},
   "source": [
    "### Ridge is good as default ,but if you suspect than only few feature are useful, you shoud prefer lasso or elastic because they tend to reduce the usless features'weights down to zero, in general elastics prefer over lasso because lasso may behave errativally when number of fetures is greater than the number of instance\n",
    "### elastic net --> middle ground between lasso and ridge the regularization by R when R=0 in ridge and when R=1 lasoo\n",
    "### from sklearn.linear_model import Lasso, ElasticNet, Ridge\n",
    "### Ridge(alpha=1, solver='cholesky')\n",
    "### Lasso(alpha=0.1)\n",
    "### ElasticNet(alpha=0.1, l1_ratio=0.5) it's better to close to 1"
   ]
  }
 ],
 "metadata": {
  "kernelspec": {
   "display_name": "Python 3",
   "language": "python",
   "name": "python3"
  },
  "language_info": {
   "codemirror_mode": {
    "name": "ipython",
    "version": 3
   },
   "file_extension": ".py",
   "mimetype": "text/x-python",
   "name": "python",
   "nbconvert_exporter": "python",
   "pygments_lexer": "ipython3",
   "version": "3.8.5"
  }
 },
 "nbformat": 4,
 "nbformat_minor": 4
}
