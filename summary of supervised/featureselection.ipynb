{
 "cells": [
  {
   "cell_type": "markdown",
   "metadata": {},
   "source": [
    "# Feature Selection:"
   ]
  },
  {
   "cell_type": "markdown",
   "metadata": {},
   "source": [
    "## Univariate Method:\n",
    "### at the same time just one feature examine\n",
    "### disadvantage: in some case one feature it's not good and if we combine with other feature recieve good accuracy \n",
    "## Multivariate Method:\n",
    "### A subset of feature examine\n",
    "### -------------------------------------------------------------------------"
   ]
  },
  {
   "cell_type": "markdown",
   "metadata": {},
   "source": [
    "### we have 3 method to select features :\n",
    "### 1) Filter \n",
    "### 2) Wrapper\n",
    "### 3) Embedded \n",
    "### ------------------------------------------------------------------------"
   ]
  },
  {
   "cell_type": "markdown",
   "metadata": {},
   "source": [
    "## Filter :\n",
    "### feature independs from classifie (preprossesing)\n",
    "### simle and fast / support large dataset / univariate \n",
    "### معیار اندازه گیری همبستگی و اطلاعات متقابل"
   ]
  },
  {
   "cell_type": "markdown",
   "metadata": {},
   "source": [
    "## Correlation:\n",
    "### compute correlation between each feature and output ,the max cor is the best. *\n",
    "### disadvantage: not determine nolinear correlation"
   ]
  },
  {
   "cell_type": "markdown",
   "metadata": {},
   "source": [
    "## --------------------------------------------------------------------------\n",
    "## Wrapper:\n",
    "### use classifie for evaluate feature (cross validation)\n",
    "### advantage: good accuracy "
   ]
  },
  {
   "cell_type": "markdown",
   "metadata": {},
   "source": [
    "# search strategy:\n",
    "### 1) Sequential Forward Selection\n",
    "### 2) Sequential Backward Selection\n",
    "### 3) Plus-L minus-R Selection\n",
    "### 4) Bidirectional Search"
   ]
  },
  {
   "cell_type": "markdown",
   "metadata": {},
   "source": [
    "## SFS :\n",
    "### شروع با یک مجموعه تهی و بهترین ویژگی انتخاب میکنیم و در مرحله بعدی سراغ جفت ویژگی بعدی میریم تا همه مجموعه  کامل بشه\n",
    "## SBS :\n",
    "### شروع با همه ویژگی و حذف میکنیم بدترین ویژگی یعنی اونی حذف میشه که کمترین تاثیر داشته باشد\n",
    "\n",
    "\n",
    "## Bidirectional Search :\n",
    "### در  این روش از دو روش بالا استفاده میکنیم طوری  که بهم برسند یعنی یکی از صفر شروع میکنه میاد بالا و دیگری از کامل شروع میکنه تا بهترین حالت رخ دهد که بهم برسند\n",
    "## LRS :\n",
    "### if L > R :  \n",
    "### y = {}\n",
    "### repeat L time (ezafe)\n",
    "### repeat R time (remove)\n",
    "### else:\n",
    "### y = X\n",
    "### repeat R time(remove)\n",
    "### repeat L time (ezafe)"
   ]
  },
  {
   "cell_type": "markdown",
   "metadata": {},
   "source": [
    "# ---------------------------------------------------------------------------------------------------------\n",
    "# Feature Extraction:\n",
    "# ایجاد ویژگی جدید از ویژگی اصلی\n"
   ]
  },
  {
   "cell_type": "markdown",
   "metadata": {},
   "source": [
    "## many machine learning problems involve thousands or even milions of features for each training instance\n",
    "## for 2 reasons we should use dimensionality reduction\n",
    "### 1) visualize data\n",
    "### 2) data comperhession\n"
   ]
  },
  {
   "cell_type": "markdown",
   "metadata": {},
   "source": [
    "### the main approaches to reducing dimonsionality : projection / manifold\n",
    "### projection is not always the best approach to dimonsionality reduction if twist and turn "
   ]
  },
  {
   "cell_type": "markdown",
   "metadata": {},
   "source": [
    "### pca : found line which we have minimum square ponit to line \n",
    "### x <= centered x \n",
    "### c = 1/m-1(x.T x)\n",
    "### we use kernel pca for nolinear task"
   ]
  },
  {
   "cell_type": "code",
   "execution_count": null,
   "metadata": {},
   "outputs": [],
   "source": []
  },
  {
   "cell_type": "code",
   "execution_count": null,
   "metadata": {},
   "outputs": [],
   "source": []
  },
  {
   "cell_type": "code",
   "execution_count": null,
   "metadata": {},
   "outputs": [],
   "source": []
  },
  {
   "cell_type": "code",
   "execution_count": null,
   "metadata": {},
   "outputs": [],
   "source": []
  },
  {
   "cell_type": "code",
   "execution_count": null,
   "metadata": {},
   "outputs": [],
   "source": []
  },
  {
   "cell_type": "code",
   "execution_count": null,
   "metadata": {},
   "outputs": [],
   "source": []
  },
  {
   "cell_type": "code",
   "execution_count": null,
   "metadata": {},
   "outputs": [],
   "source": []
  },
  {
   "cell_type": "code",
   "execution_count": null,
   "metadata": {},
   "outputs": [],
   "source": []
  },
  {
   "cell_type": "code",
   "execution_count": null,
   "metadata": {},
   "outputs": [],
   "source": []
  },
  {
   "cell_type": "code",
   "execution_count": null,
   "metadata": {},
   "outputs": [],
   "source": []
  },
  {
   "cell_type": "code",
   "execution_count": null,
   "metadata": {},
   "outputs": [],
   "source": []
  },
  {
   "cell_type": "code",
   "execution_count": null,
   "metadata": {},
   "outputs": [],
   "source": []
  },
  {
   "cell_type": "code",
   "execution_count": null,
   "metadata": {},
   "outputs": [],
   "source": []
  },
  {
   "cell_type": "code",
   "execution_count": null,
   "metadata": {},
   "outputs": [],
   "source": []
  }
 ],
 "metadata": {
  "kernelspec": {
   "display_name": "Python 3",
   "language": "python",
   "name": "python3"
  },
  "language_info": {
   "codemirror_mode": {
    "name": "ipython",
    "version": 3
   },
   "file_extension": ".py",
   "mimetype": "text/x-python",
   "name": "python",
   "nbconvert_exporter": "python",
   "pygments_lexer": "ipython3",
   "version": "3.8.5"
  }
 },
 "nbformat": 4,
 "nbformat_minor": 4
}
